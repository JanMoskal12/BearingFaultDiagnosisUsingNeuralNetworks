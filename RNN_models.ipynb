{
 "cells": [
  {
   "cell_type": "markdown",
   "metadata": {
    "id": "v2dp1FgC6evw"
   },
   "source": [
    "# CWRU Bearing Fault Data - RNN Models"
   ]
  },
  {
   "cell_type": "code",
   "execution_count": null,
   "metadata": {
    "execution": {
     "iopub.execute_input": "2025-06-17T09:54:57.750843Z",
     "iopub.status.busy": "2025-06-17T09:54:57.750274Z",
     "iopub.status.idle": "2025-06-17T09:54:57.755933Z",
     "shell.execute_reply": "2025-06-17T09:54:57.755206Z",
     "shell.execute_reply.started": "2025-06-17T09:54:57.750820Z"
    },
    "id": "74SPtIOk547q",
    "outputId": "e524d18a-0fd4-4df6-aacf-6caa231b43f9",
    "trusted": true
   },
   "outputs": [],
   "source": [
    "import numpy as np\n",
    "import pandas as pd\n",
    "import matplotlib.pyplot as plt\n",
    "import seaborn as sns\n",
    "\n",
    "import time\n",
    "import os\n",
    "import pickle\n",
    "\n",
    "import tensorflow as tf\n",
    "import tensorflow.keras as keras\n",
    "\n",
    "from tensorflow.keras.utils import to_categorical\n",
    "from tensorflow.keras.models import Sequential, Model\n",
    "from tensorflow.keras.layers import SimpleRNN, LSTM, GRU, Dense, Dropout, Flatten, BatchNormalization, Conv1D, MaxPooling1D\n",
    "from tensorflow.keras.regularizers import l2\n",
    "from tensorflow.keras.callbacks import EarlyStopping, ModelCheckpoint, ReduceLROnPlateau\n",
    "from tensorflow.keras.optimizers import Adam\n",
    "from tensorflow.keras.utils import Sequence\n",
    "from sklearn.preprocessing import LabelEncoder\n",
    "from sklearn.model_selection import train_test_split\n",
    "from sklearn.metrics import classification_report, confusion_matrix, ConfusionMatrixDisplay"
   ]
  },
  {
   "cell_type": "code",
   "execution_count": null,
   "metadata": {
    "execution": {
     "iopub.execute_input": "2025-06-17T09:31:53.896594Z",
     "iopub.status.busy": "2025-06-17T09:31:53.896369Z",
     "iopub.status.idle": "2025-06-17T09:31:53.908040Z",
     "shell.execute_reply": "2025-06-17T09:31:53.907517Z",
     "shell.execute_reply.started": "2025-06-17T09:31:53.896570Z"
    },
    "id": "q89Jo7FA6xzL",
    "trusted": true
   },
   "outputs": [],
   "source": [
    "def count_frames(signal_length, frame_length, hop_length):\n",
    "    return max(1, 1 + (signal_length - frame_length) // hop_length)"
   ]
  },
  {
   "cell_type": "code",
   "execution_count": null,
   "metadata": {
    "execution": {
     "iopub.execute_input": "2025-06-17T09:31:53.909236Z",
     "iopub.status.busy": "2025-06-17T09:31:53.909042Z",
     "iopub.status.idle": "2025-06-17T09:31:53.928684Z",
     "shell.execute_reply": "2025-06-17T09:31:53.927980Z",
     "shell.execute_reply.started": "2025-06-17T09:31:53.909221Z"
    },
    "id": "EKYhziHv7CAe",
    "trusted": true
   },
   "outputs": [],
   "source": [
    "def fragment_and_normalize(df, frame_size=1024, hop_size=512):\n",
    "    fragments = []\n",
    "    labels = []\n",
    "\n",
    "    for idx, row in df.iterrows():\n",
    "        signal = row['signal']\n",
    "        label = row['label']\n",
    "\n",
    "        for start in range(0, len(signal) - frame_size + 1, hop_size):\n",
    "            frame = signal[start:start+frame_size]\n",
    "\n",
    "\n",
    "            frame = (frame - np.mean(frame)) / np.std(frame)\n",
    "\n",
    "            fragments.append(frame)\n",
    "            labels.append(label)\n",
    "\n",
    "    fragments = np.array(fragments)\n",
    "    labels = np.array(labels)\n",
    "\n",
    "    fragments = fragments[..., np.newaxis]\n",
    "\n",
    "    return fragments, labels"
   ]
  },
  {
   "cell_type": "code",
   "execution_count": null,
   "metadata": {
    "execution": {
     "iopub.execute_input": "2025-06-17T09:31:53.929730Z",
     "iopub.status.busy": "2025-06-17T09:31:53.929483Z",
     "iopub.status.idle": "2025-06-17T09:31:53.941188Z",
     "shell.execute_reply": "2025-06-17T09:31:53.940519Z",
     "shell.execute_reply.started": "2025-06-17T09:31:53.929708Z"
    },
    "id": "lg0D0-ci7Hed",
    "trusted": true
   },
   "outputs": [],
   "source": [
    "def add_gaussian_noise(signal, noise_level=0.005):\n",
    "    noise = np.random.normal(0, noise_level, signal.shape)\n",
    "    return signal + noise"
   ]
  },
  {
   "cell_type": "code",
   "execution_count": null,
   "metadata": {
    "execution": {
     "iopub.execute_input": "2025-06-17T09:31:53.942864Z",
     "iopub.status.busy": "2025-06-17T09:31:53.942696Z",
     "iopub.status.idle": "2025-06-17T09:31:53.954252Z",
     "shell.execute_reply": "2025-06-17T09:31:53.953707Z",
     "shell.execute_reply.started": "2025-06-17T09:31:53.942851Z"
    },
    "id": "YqLoLybe7NfS",
    "trusted": true
   },
   "outputs": [],
   "source": [
    "def add_masking_noise(signal, mask_fraction=0.1):\n",
    "    signal = signal.copy()\n",
    "    n_mask = int(mask_fraction * signal.shape[0])\n",
    "    mask_indices = np.random.choice(signal.shape[0], n_mask, replace=False)\n",
    "    signal[mask_indices] = 0\n",
    "    return signal"
   ]
  },
  {
   "cell_type": "code",
   "execution_count": null,
   "metadata": {
    "execution": {
     "iopub.execute_input": "2025-06-17T09:31:53.955139Z",
     "iopub.status.busy": "2025-06-17T09:31:53.954939Z",
     "iopub.status.idle": "2025-06-17T09:31:53.969029Z",
     "shell.execute_reply": "2025-06-17T09:31:53.968459Z",
     "shell.execute_reply.started": "2025-06-17T09:31:53.955117Z"
    },
    "id": "p3G4_Bkf7QLc",
    "trusted": true
   },
   "outputs": [],
   "source": [
    "def time_shift(signal, shift_max=50):\n",
    "    shift = np.random.randint(-shift_max, shift_max)\n",
    "    return np.roll(signal, shift)"
   ]
  },
  {
   "cell_type": "code",
   "execution_count": null,
   "metadata": {
    "execution": {
     "iopub.execute_input": "2025-06-17T09:31:53.969884Z",
     "iopub.status.busy": "2025-06-17T09:31:53.969708Z",
     "iopub.status.idle": "2025-06-17T09:31:53.982139Z",
     "shell.execute_reply": "2025-06-17T09:31:53.981304Z",
     "shell.execute_reply.started": "2025-06-17T09:31:53.969869Z"
    },
    "id": "VycDzij47ekN",
    "trusted": true
   },
   "outputs": [],
   "source": [
    "def amplitude_shift(signal, shift_range=0.1):\n",
    "    shift = np.random.uniform(1 - shift_range, 1 + shift_range)\n",
    "    return signal * shift"
   ]
  },
  {
   "cell_type": "code",
   "execution_count": null,
   "metadata": {
    "execution": {
     "iopub.execute_input": "2025-06-17T09:31:53.983375Z",
     "iopub.status.busy": "2025-06-17T09:31:53.983155Z",
     "iopub.status.idle": "2025-06-17T09:31:53.998404Z",
     "shell.execute_reply": "2025-06-17T09:31:53.997728Z",
     "shell.execute_reply.started": "2025-06-17T09:31:53.983349Z"
    },
    "id": "S75W7vsL7jjF",
    "trusted": true
   },
   "outputs": [],
   "source": [
    "class DataGenerator(Sequence):\n",
    "    def __init__(self, X, y, batch_size=64, shuffle=True, augment=True):\n",
    "        self.X = X\n",
    "        self.y = y\n",
    "        self.batch_size = batch_size\n",
    "        self.shuffle = shuffle\n",
    "        self.augment = augment\n",
    "        self.indexes = np.arange(len(self.X))\n",
    "        self.on_epoch_end()\n",
    "\n",
    "    def __len__(self):\n",
    "        return int(np.ceil(len(self.X) / self.batch_size))\n",
    "\n",
    "    def __getitem__(self, index):\n",
    "      batch_indexes = self.indexes[index * self.batch_size:(index + 1) * self.batch_size]\n",
    "      X_batch = self.X[batch_indexes]\n",
    "      y_batch = self.y[batch_indexes]\n",
    "\n",
    "      if self.augment:\n",
    "        X_batch = np.array([self.augment_sample(x) for x in X_batch])\n",
    "\n",
    "      return X_batch, y_batch\n",
    "\n",
    "    def on_epoch_end(self):\n",
    "        if self.shuffle:\n",
    "            np.random.shuffle(self.indexes)\n",
    "\n",
    "    def augment_sample(self, signal):\n",
    "        if np.random.rand() < 0.5:\n",
    "            signal = add_gaussian_noise(signal)\n",
    "        if np.random.rand() < 0.5:\n",
    "            signal = add_masking_noise(signal)\n",
    "        if np.random.rand() < 0.5:\n",
    "            signal = time_shift(signal)\n",
    "        if np.random.rand() < 0.5:\n",
    "            signal = amplitude_shift(signal)\n",
    "        return signal"
   ]
  },
  {
   "cell_type": "code",
   "execution_count": null,
   "metadata": {
    "execution": {
     "iopub.execute_input": "2025-06-17T09:31:54.000512Z",
     "iopub.status.busy": "2025-06-17T09:31:54.000298Z",
     "iopub.status.idle": "2025-06-17T09:31:54.103174Z",
     "shell.execute_reply": "2025-06-17T09:31:54.102492Z",
     "shell.execute_reply.started": "2025-06-17T09:31:54.000490Z"
    },
    "id": "tdm-8Smt7lg2",
    "trusted": true
   },
   "outputs": [],
   "source": [
    "with open('48kdrive-end_normalbaseline_loadsplit_data.pkl', 'rb') as f:\n",
    "    data = pickle.load(f)"
   ]
  },
  {
   "cell_type": "code",
   "execution_count": null,
   "metadata": {
    "execution": {
     "iopub.execute_input": "2025-06-17T09:31:54.104496Z",
     "iopub.status.busy": "2025-06-17T09:31:54.104165Z",
     "iopub.status.idle": "2025-06-17T09:31:54.109421Z",
     "shell.execute_reply": "2025-06-17T09:31:54.108787Z",
     "shell.execute_reply.started": "2025-06-17T09:31:54.104450Z"
    },
    "id": "z51VOIsE7yrm",
    "trusted": true
   },
   "outputs": [],
   "source": [
    "SAMPLE_RATE = 48000\n",
    "FRAME_SIZE = 1024\n",
    "HOP_SIZE = 512\n",
    "\n",
    "INPUT_SHAPE = (FRAME_SIZE, 1)\n",
    "NUM_CLASSES = 14\n",
    "BATCH_SIZE = 32\n",
    "\n",
    "unique_classes = ['B007', 'B014', 'B021', 'IR007', 'IR014', 'IR021', 'Normal',\n",
    "                  'OR007@12', 'OR007@3', 'OR007@6', 'OR014@6', 'OR021@12', 'OR021@3', 'OR021@6']"
   ]
  },
  {
   "cell_type": "markdown",
   "metadata": {
    "id": "CElFiB0V7_L2"
   },
   "source": [
    "## Preprocessing and exploratory analysis of data for RNNs"
   ]
  },
  {
   "cell_type": "markdown",
   "metadata": {},
   "source": [
    "### Basic data characteristics"
   ]
  },
  {
   "cell_type": "code",
   "execution_count": null,
   "metadata": {
    "execution": {
     "iopub.execute_input": "2025-06-17T09:31:54.111269Z",
     "iopub.status.busy": "2025-06-17T09:31:54.110368Z",
     "iopub.status.idle": "2025-06-17T09:31:54.134313Z",
     "shell.execute_reply": "2025-06-17T09:31:54.133705Z",
     "shell.execute_reply.started": "2025-06-17T09:31:54.111245Z"
    },
    "id": "B5ilU8ro709c",
    "trusted": true
   },
   "outputs": [],
   "source": [
    "data.head()"
   ]
  },
  {
   "cell_type": "code",
   "execution_count": null,
   "metadata": {
    "execution": {
     "iopub.execute_input": "2025-06-17T09:31:54.135286Z",
     "iopub.status.busy": "2025-06-17T09:31:54.135070Z",
     "iopub.status.idle": "2025-06-17T09:31:54.148234Z",
     "shell.execute_reply": "2025-06-17T09:31:54.147656Z",
     "shell.execute_reply.started": "2025-06-17T09:31:54.135271Z"
    },
    "id": "cUKHTQpj8Cv3",
    "trusted": true
   },
   "outputs": [],
   "source": [
    "print(f'Liczba kombinacji klas uszkodzeń i loadów: {len(data)}')"
   ]
  },
  {
   "cell_type": "code",
   "execution_count": null,
   "metadata": {
    "execution": {
     "iopub.execute_input": "2025-06-17T09:31:54.149405Z",
     "iopub.status.busy": "2025-06-17T09:31:54.148955Z",
     "iopub.status.idle": "2025-06-17T09:31:54.161092Z",
     "shell.execute_reply": "2025-06-17T09:31:54.160525Z",
     "shell.execute_reply.started": "2025-06-17T09:31:54.149389Z"
    },
    "id": "dqt2wMDY8K7t",
    "trusted": true
   },
   "outputs": [],
   "source": [
    "print(f'Liczba unikalnych klass: {len(data[\"label\"].unique())}')\n",
    "print(f'Unikalne klasy: {data[\"label\"].unique()}')"
   ]
  },
  {
   "cell_type": "code",
   "execution_count": null,
   "metadata": {
    "execution": {
     "iopub.execute_input": "2025-06-17T09:31:54.162025Z",
     "iopub.status.busy": "2025-06-17T09:31:54.161804Z",
     "iopub.status.idle": "2025-06-17T09:31:54.180296Z",
     "shell.execute_reply": "2025-06-17T09:31:54.179555Z",
     "shell.execute_reply.started": "2025-06-17T09:31:54.162004Z"
    },
    "id": "9NbHkasi8Sy0",
    "trusted": true
   },
   "outputs": [],
   "source": [
    "data['signal_length'] = data['signal'].apply(len)\n",
    "print(data.groupby('label')['signal_length'].agg(['count', 'mean', 'std', 'min', 'max']))\n",
    "\n",
    "data.drop('signal_length', axis=1, inplace=True)"
   ]
  },
  {
   "cell_type": "markdown",
   "metadata": {},
   "source": [
    "### Data framing and summary"
   ]
  },
  {
   "cell_type": "code",
   "execution_count": null,
   "metadata": {
    "execution": {
     "iopub.execute_input": "2025-06-17T09:31:54.181262Z",
     "iopub.status.busy": "2025-06-17T09:31:54.181065Z",
     "iopub.status.idle": "2025-06-17T09:31:54.202408Z",
     "shell.execute_reply": "2025-06-17T09:31:54.201694Z",
     "shell.execute_reply.started": "2025-06-17T09:31:54.181242Z"
    },
    "id": "Tnt7-06R8Wu3",
    "trusted": true
   },
   "outputs": [],
   "source": [
    "data['num_frames'] = data['signal'].apply(lambda x: count_frames(len(x), FRAME_SIZE, HOP_SIZE))\n",
    "\n",
    "frame_stats = data.groupby('label')['num_frames'].agg(['count', 'mean', 'min', 'max', 'sum']).reset_index()\n",
    "frame_stats.rename(columns={'sum': 'total_frames'}, inplace=True)\n",
    "\n",
    "print(frame_stats)\n",
    "\n",
    "data.drop('num_frames', axis=1, inplace=True)"
   ]
  },
  {
   "cell_type": "code",
   "execution_count": null,
   "metadata": {
    "execution": {
     "iopub.execute_input": "2025-06-17T09:31:54.203337Z",
     "iopub.status.busy": "2025-06-17T09:31:54.203172Z",
     "iopub.status.idle": "2025-06-17T09:31:56.185066Z",
     "shell.execute_reply": "2025-06-17T09:31:56.184247Z",
     "shell.execute_reply.started": "2025-06-17T09:31:54.203324Z"
    },
    "id": "ZZPcR4Fv8ddA",
    "trusted": true
   },
   "outputs": [],
   "source": [
    "X, y = fragment_and_normalize(data, frame_size=FRAME_SIZE, hop_size=HOP_SIZE)\n",
    "\n",
    "print(f\"Liczba fragmentów (ramek): {X.shape[0]}\")\n",
    "print(f\"Kształt fragmentów (ilość, długość, kanały): {X.shape}\")"
   ]
  },
  {
   "cell_type": "code",
   "execution_count": null,
   "metadata": {
    "execution": {
     "iopub.execute_input": "2025-06-17T09:31:56.188386Z",
     "iopub.status.busy": "2025-06-17T09:31:56.188103Z",
     "iopub.status.idle": "2025-06-17T09:31:56.239444Z",
     "shell.execute_reply": "2025-06-17T09:31:56.238714Z",
     "shell.execute_reply.started": "2025-06-17T09:31:56.188368Z"
    },
    "id": "vDZAxYOz8j_9",
    "trusted": true
   },
   "outputs": [],
   "source": [
    "if X.dtype != np.float32:\n",
    "    X = X.astype(np.float32)\n",
    "    print('Przekonwertowano X na float32')"
   ]
  },
  {
   "cell_type": "code",
   "execution_count": null,
   "metadata": {
    "execution": {
     "iopub.execute_input": "2025-06-17T09:31:56.240352Z",
     "iopub.status.busy": "2025-06-17T09:31:56.240157Z",
     "iopub.status.idle": "2025-06-17T09:31:56.464999Z",
     "shell.execute_reply": "2025-06-17T09:31:56.464207Z",
     "shell.execute_reply.started": "2025-06-17T09:31:56.240335Z"
    },
    "id": "dniMrwme8lvU",
    "trusted": true
   },
   "outputs": [],
   "source": [
    "class_counts = {label: count for label, count in zip(np.unique(y), [len(y[y == label]) for label in np.unique(y)])}\n",
    "classes = list(class_counts.keys())\n",
    "counts = list(class_counts.values())\n",
    "\n",
    "colors = plt.cm.tab20.colors\n",
    "\n",
    "plt.figure(figsize=(12, 6))\n",
    "plt.bar(classes, counts, color=colors[:len(classes)])\n",
    "plt.xticks(rotation=45, ha='right')\n",
    "plt.xlabel('Klasa')\n",
    "plt.ylabel('Liczba ramek')\n",
    "plt.title('Rozkład liczby ramek w każdej klasie')\n",
    "plt.grid(axis='y', linestyle='--', alpha=0.7)\n",
    "plt.tight_layout()\n",
    "plt.show()"
   ]
  },
  {
   "cell_type": "markdown",
   "metadata": {},
   "source": [
    "### Class label preprocessing"
   ]
  },
  {
   "cell_type": "code",
   "execution_count": null,
   "metadata": {
    "execution": {
     "iopub.execute_input": "2025-06-17T09:31:56.466310Z",
     "iopub.status.busy": "2025-06-17T09:31:56.466008Z",
     "iopub.status.idle": "2025-06-17T09:31:56.476390Z",
     "shell.execute_reply": "2025-06-17T09:31:56.475656Z",
     "shell.execute_reply.started": "2025-06-17T09:31:56.466285Z"
    },
    "id": "yLS3qsSL8w0i",
    "trusted": true
   },
   "outputs": [],
   "source": [
    "le = LabelEncoder()\n",
    "y_encoded = le.fit_transform(y)\n",
    "print(f'Zakodowane klasy: {np.unique(y_encoded)}')"
   ]
  },
  {
   "cell_type": "code",
   "execution_count": null,
   "metadata": {
    "execution": {
     "iopub.execute_input": "2025-06-17T09:31:56.477324Z",
     "iopub.status.busy": "2025-06-17T09:31:56.477094Z",
     "iopub.status.idle": "2025-06-17T09:31:56.481810Z",
     "shell.execute_reply": "2025-06-17T09:31:56.481082Z",
     "shell.execute_reply.started": "2025-06-17T09:31:56.477310Z"
    },
    "id": "dFZum-2k80ST",
    "trusted": true
   },
   "outputs": [],
   "source": [
    "print(f'Kształt y przed kodowaniem: {y.shape}')\n",
    "print(f'Kształt y po kodowaniu: {y_encoded.shape}')"
   ]
  },
  {
   "cell_type": "code",
   "execution_count": null,
   "metadata": {
    "execution": {
     "iopub.execute_input": "2025-06-17T09:31:56.482752Z",
     "iopub.status.busy": "2025-06-17T09:31:56.482535Z",
     "iopub.status.idle": "2025-06-17T09:31:56.496654Z",
     "shell.execute_reply": "2025-06-17T09:31:56.495897Z",
     "shell.execute_reply.started": "2025-06-17T09:31:56.482737Z"
    },
    "id": "s7FPEC0t81Aq",
    "trusted": true
   },
   "outputs": [],
   "source": [
    "y_onehot = to_categorical(y_encoded)\n",
    "print(f'Kształt y one-hot: {y_onehot.shape}')"
   ]
  },
  {
   "cell_type": "code",
   "execution_count": null,
   "metadata": {
    "execution": {
     "iopub.execute_input": "2025-06-17T09:31:56.497782Z",
     "iopub.status.busy": "2025-06-17T09:31:56.497531Z",
     "iopub.status.idle": "2025-06-17T09:31:56.509845Z",
     "shell.execute_reply": "2025-06-17T09:31:56.509197Z",
     "shell.execute_reply.started": "2025-06-17T09:31:56.497763Z"
    },
    "id": "4x-HopHs82wo",
    "trusted": true
   },
   "outputs": [],
   "source": [
    "y_labels = np.argmax(y_onehot, axis=1)\n",
    "print(f\"Kształt y_labels: {y_labels.shape}\")"
   ]
  },
  {
   "cell_type": "markdown",
   "metadata": {},
   "source": [
    "### Train/Validation/Test split and Data Generators"
   ]
  },
  {
   "cell_type": "code",
   "execution_count": null,
   "metadata": {
    "execution": {
     "iopub.execute_input": "2025-06-17T09:31:56.511088Z",
     "iopub.status.busy": "2025-06-17T09:31:56.510852Z",
     "iopub.status.idle": "2025-06-17T09:31:56.589024Z",
     "shell.execute_reply": "2025-06-17T09:31:56.588284Z",
     "shell.execute_reply.started": "2025-06-17T09:31:56.511067Z"
    },
    "id": "QR7FSZ_z85p_",
    "trusted": true
   },
   "outputs": [],
   "source": [
    "X_train, X_temp, y_train, y_temp = train_test_split(X, y, test_size=0.3, random_state=2025, stratify=y_labels)\n",
    "X_val, X_test, y_val, y_test = train_test_split(X_temp, y_temp, test_size=0.5, random_state=42, stratify=y_temp)\n",
    "\n",
    "print(f\"Train: {X_train.shape[0]} ramek\")\n",
    "print(f\"Validation: {X_val.shape[0]} ramek\")\n",
    "print(f\"Test: {X_test.shape[0]} ramek\")"
   ]
  },
  {
   "cell_type": "code",
   "execution_count": null,
   "metadata": {
    "execution": {
     "iopub.execute_input": "2025-06-17T09:31:56.590020Z",
     "iopub.status.busy": "2025-06-17T09:31:56.589824Z",
     "iopub.status.idle": "2025-06-17T09:31:56.613024Z",
     "shell.execute_reply": "2025-06-17T09:31:56.612344Z",
     "shell.execute_reply.started": "2025-06-17T09:31:56.589998Z"
    },
    "id": "QuLok22M87_U",
    "trusted": true
   },
   "outputs": [],
   "source": [
    "y_train_enc = le.transform(y_train)\n",
    "y_val_enc = le.transform(y_val)\n",
    "y_test_enc = le.transform(y_test)\n",
    "\n",
    "y_train_onehot = to_categorical(y_train_enc)\n",
    "y_val_onehot = to_categorical(y_val_enc)\n",
    "y_test_onehot = to_categorical(y_test_enc)"
   ]
  },
  {
   "cell_type": "code",
   "execution_count": null,
   "metadata": {
    "execution": {
     "iopub.execute_input": "2025-06-17T09:31:56.614122Z",
     "iopub.status.busy": "2025-06-17T09:31:56.613861Z",
     "iopub.status.idle": "2025-06-17T09:31:56.627743Z",
     "shell.execute_reply": "2025-06-17T09:31:56.627036Z",
     "shell.execute_reply.started": "2025-06-17T09:31:56.614088Z"
    },
    "id": "RVNytFXN9BxE",
    "trusted": true
   },
   "outputs": [],
   "source": [
    "train_gen = DataGenerator(X_train, y_train_onehot, batch_size=BATCH_SIZE, augment=True)\n",
    "val_gen = DataGenerator(X_val, y_val_onehot, batch_size=BATCH_SIZE, augment=False)\n",
    "test_gen = DataGenerator(X_test, y_test_onehot, batch_size=BATCH_SIZE, augment=False, shuffle=False)"
   ]
  },
  {
   "cell_type": "markdown",
   "metadata": {
    "id": "lzm43IZH99-Y"
   },
   "source": [
    "## RNN"
   ]
  },
  {
   "cell_type": "markdown",
   "metadata": {},
   "source": [
    "### Model architecture and compilation"
   ]
  },
  {
   "cell_type": "code",
   "execution_count": null,
   "metadata": {
    "execution": {
     "iopub.execute_input": "2025-06-17T09:55:05.025158Z",
     "iopub.status.busy": "2025-06-17T09:55:05.024524Z",
     "iopub.status.idle": "2025-06-17T09:55:05.135166Z",
     "shell.execute_reply": "2025-06-17T09:55:05.134527Z",
     "shell.execute_reply.started": "2025-06-17T09:55:05.025139Z"
    },
    "id": "tK_HtALX9DF5",
    "trusted": true
   },
   "outputs": [],
   "source": [
    "model_rnn = Sequential()\n",
    "\n",
    "model_rnn.add(Conv1D(64, kernel_size=5, strides=1, activation='relu', input_shape=INPUT_SHAPE))\n",
    "model_rnn.add(MaxPooling1D(pool_size=4))  \n",
    "model_rnn.add(BatchNormalization())\n",
    "\n",
    "model_rnn.add(SimpleRNN(64, return_sequences=True))\n",
    "model_rnn.add(BatchNormalization())\n",
    "\n",
    "model_rnn.add(SimpleRNN(32))\n",
    "model_rnn.add(BatchNormalization())\n",
    "\n",
    "model_rnn.add(Dense(64, activation='relu'))\n",
    "model_rnn.add(Dropout(0.3))\n",
    "              \n",
    "model_rnn.add(Dense(NUM_CLASSES, activation='softmax'))"
   ]
  },
  {
   "cell_type": "code",
   "execution_count": null,
   "metadata": {
    "execution": {
     "iopub.execute_input": "2025-06-17T09:55:07.724391Z",
     "iopub.status.busy": "2025-06-17T09:55:07.724128Z",
     "iopub.status.idle": "2025-06-17T09:55:07.732491Z",
     "shell.execute_reply": "2025-06-17T09:55:07.731883Z",
     "shell.execute_reply.started": "2025-06-17T09:55:07.724373Z"
    },
    "id": "EWLyTK_n9opA",
    "trusted": true
   },
   "outputs": [],
   "source": [
    "model_rnn.compile(optimizer=Adam(learning_rate=1e-4),\n",
    "                  loss='categorical_crossentropy',\n",
    "                  metrics=['accuracy'])"
   ]
  },
  {
   "cell_type": "code",
   "execution_count": null,
   "metadata": {
    "execution": {
     "iopub.execute_input": "2025-06-17T09:55:16.073372Z",
     "iopub.status.busy": "2025-06-17T09:55:16.072704Z",
     "iopub.status.idle": "2025-06-17T09:55:16.091063Z",
     "shell.execute_reply": "2025-06-17T09:55:16.090358Z",
     "shell.execute_reply.started": "2025-06-17T09:55:16.073340Z"
    },
    "id": "I8QQFR-J9ryj",
    "trusted": true
   },
   "outputs": [],
   "source": [
    "model_rnn.summary()"
   ]
  },
  {
   "cell_type": "markdown",
   "metadata": {},
   "source": [
    "### Training the model with early stopping and LR scheduling"
   ]
  },
  {
   "cell_type": "code",
   "execution_count": null,
   "metadata": {
    "execution": {
     "iopub.execute_input": "2025-06-17T09:55:29.626190Z",
     "iopub.status.busy": "2025-06-17T09:55:29.625670Z",
     "iopub.status.idle": "2025-06-17T09:55:29.630233Z",
     "shell.execute_reply": "2025-06-17T09:55:29.629511Z",
     "shell.execute_reply.started": "2025-06-17T09:55:29.626166Z"
    },
    "id": "jJno2jv29yPW",
    "trusted": true
   },
   "outputs": [],
   "source": [
    "early_stop = EarlyStopping(monitor='val_loss', patience=10, restore_best_weights=True)\n",
    "checkpoint = ModelCheckpoint('model_rnn.h5', monitor='val_loss', save_best_only=True)\n",
    "reduce_lr = ReduceLROnPlateau(monitor='val_loss', factor=0.5, patience=5, min_lr=1e-6, verbose=1)"
   ]
  },
  {
   "cell_type": "code",
   "execution_count": null,
   "metadata": {
    "execution": {
     "iopub.execute_input": "2025-06-17T09:55:33.198937Z",
     "iopub.status.busy": "2025-06-17T09:55:33.198320Z",
     "iopub.status.idle": "2025-06-17T10:32:43.373765Z",
     "shell.execute_reply": "2025-06-17T10:32:43.373139Z",
     "shell.execute_reply.started": "2025-06-17T09:55:33.198918Z"
    },
    "id": "16q4i5_p-DdG",
    "trusted": true
   },
   "outputs": [],
   "source": [
    "start_time = time.time()\n",
    "\n",
    "history_rnn = model_rnn.fit(train_gen,\n",
    "                         validation_data=val_gen,\n",
    "                         epochs=60,\n",
    "                         callbacks=[early_stop, checkpoint, reduce_lr])\n",
    "\n",
    "end_time = time.time()\n",
    "training_time = end_time - start_time\n",
    "print(f\"Czas treningu: {training_time:.2f} sekund\")"
   ]
  },
  {
   "cell_type": "markdown",
   "metadata": {},
   "source": [
    "### Evaluating model performance (accuracy, loss, confusion matrix, classification report, learning curves)"
   ]
  },
  {
   "cell_type": "code",
   "execution_count": null,
   "metadata": {
    "execution": {
     "iopub.execute_input": "2025-06-17T10:33:17.066269Z",
     "iopub.status.busy": "2025-06-17T10:33:17.065419Z",
     "iopub.status.idle": "2025-06-17T10:33:19.283440Z",
     "shell.execute_reply": "2025-06-17T10:33:19.282494Z",
     "shell.execute_reply.started": "2025-06-17T10:33:17.066239Z"
    },
    "id": "iLR1zivfARZS",
    "trusted": true
   },
   "outputs": [],
   "source": [
    "test_loss, test_accuracy = model_rnn.evaluate(test_gen, verbose=0)\n",
    "print(f\"Test Accuracy: {test_accuracy:.4f}\")\n",
    "print(f\"Test Loss: {test_loss:.4f}\")"
   ]
  },
  {
   "cell_type": "code",
   "execution_count": null,
   "metadata": {
    "execution": {
     "iopub.execute_input": "2025-06-17T10:34:52.903330Z",
     "iopub.status.busy": "2025-06-17T10:34:52.902528Z",
     "iopub.status.idle": "2025-06-17T10:34:55.196826Z",
     "shell.execute_reply": "2025-06-17T10:34:55.195998Z",
     "shell.execute_reply.started": "2025-06-17T10:34:52.903307Z"
    },
    "id": "7PCi56U9BBD8",
    "trusted": true
   },
   "outputs": [],
   "source": [
    "y_pred_probs = model_rnn.predict(test_gen, verbose=1)\n",
    "y_pred = np.argmax(y_pred_probs, axis=1)\n",
    "y_true = np.argmax(y_test_onehot, axis=1)"
   ]
  },
  {
   "cell_type": "code",
   "execution_count": null,
   "metadata": {
    "execution": {
     "iopub.execute_input": "2025-06-17T10:34:57.694530Z",
     "iopub.status.busy": "2025-06-17T10:34:57.693823Z",
     "iopub.status.idle": "2025-06-17T10:34:58.081615Z",
     "shell.execute_reply": "2025-06-17T10:34:58.080862Z",
     "shell.execute_reply.started": "2025-06-17T10:34:57.694499Z"
    },
    "id": "RE0hPq_aBM9z",
    "trusted": true
   },
   "outputs": [],
   "source": [
    "cm = confusion_matrix(y_true, y_pred)\n",
    "disp = ConfusionMatrixDisplay(confusion_matrix=cm)\n",
    "plt.figure(figsize=(12, 12))\n",
    "disp.plot(cmap='Blues', colorbar=False, xticks_rotation=90)\n",
    "plt.title(\"Macierz pomyłek na zbiorze testowym\")\n",
    "plt.show()"
   ]
  },
  {
   "cell_type": "code",
   "execution_count": null,
   "metadata": {
    "execution": {
     "iopub.execute_input": "2025-06-17T10:33:48.473293Z",
     "iopub.status.busy": "2025-06-17T10:33:48.473019Z",
     "iopub.status.idle": "2025-06-17T10:33:52.314301Z",
     "shell.execute_reply": "2025-06-17T10:33:52.313688Z",
     "shell.execute_reply.started": "2025-06-17T10:33:48.473274Z"
    },
    "id": "gdtCAUpwBYpo",
    "trusted": true
   },
   "outputs": [],
   "source": [
    "y_pred_probs = model_rnn.predict(test_gen, verbose=1)\n",
    "y_pred = np.argmax(y_pred_probs, axis=1)\n",
    "y_true = np.argmax(y_test_onehot, axis=1)\n",
    "\n",
    "print(classification_report(y_true, y_pred, target_names=unique_classes))"
   ]
  },
  {
   "cell_type": "code",
   "execution_count": null,
   "metadata": {
    "execution": {
     "iopub.execute_input": "2025-06-17T10:37:27.961332Z",
     "iopub.status.busy": "2025-06-17T10:37:27.961038Z",
     "iopub.status.idle": "2025-06-17T10:37:28.351030Z",
     "shell.execute_reply": "2025-06-17T10:37:28.350264Z",
     "shell.execute_reply.started": "2025-06-17T10:37:27.961312Z"
    },
    "id": "-GzrEiZ2ByEJ",
    "trusted": true
   },
   "outputs": [],
   "source": [
    "plt.figure(figsize=(14, 5))\n",
    "\n",
    "plt.subplot(1, 2, 1)\n",
    "plt.plot(history_rnn.history['accuracy'], label='Train Accuracy')\n",
    "plt.plot(history_rnn.history['val_accuracy'], label='Validation Accuracy')\n",
    "plt.xlabel('Epoch')\n",
    "plt.ylabel('Accuracy')\n",
    "plt.title('Dokładność podczas treningu i walidacji')\n",
    "plt.legend()\n",
    "plt.grid(True)\n",
    "\n",
    "plt.subplot(1, 2, 2)\n",
    "plt.plot(history_rnn.history['loss'], label='Train Loss')\n",
    "plt.plot(history_rnn.history['val_loss'], label='Validation Loss')\n",
    "plt.xlabel('Epoch')\n",
    "plt.ylabel('Loss')\n",
    "plt.title('Funkcja straty podczas treningu i walidacji')\n",
    "plt.legend()\n",
    "plt.grid(True)\n",
    "\n",
    "plt.tight_layout()\n",
    "plt.show()"
   ]
  },
  {
   "cell_type": "markdown",
   "metadata": {
    "id": "EktyBbRv-MFf"
   },
   "source": [
    "## LSTM"
   ]
  },
  {
   "cell_type": "markdown",
   "metadata": {},
   "source": [
    "### Model architecture and compilation"
   ]
  },
  {
   "cell_type": "code",
   "execution_count": null,
   "metadata": {
    "execution": {
     "iopub.execute_input": "2025-06-17T10:40:47.542322Z",
     "iopub.status.busy": "2025-06-17T10:40:47.542043Z",
     "iopub.status.idle": "2025-06-17T10:40:47.649389Z",
     "shell.execute_reply": "2025-06-17T10:40:47.648855Z",
     "shell.execute_reply.started": "2025-06-17T10:40:47.542301Z"
    },
    "id": "SYRJgyfw-SJz",
    "trusted": true
   },
   "outputs": [],
   "source": [
    "model_lstm = Sequential()\n",
    "\n",
    "model_lstm.add(Conv1D(64, kernel_size=5, strides=1, activation='relu', input_shape=INPUT_SHAPE))\n",
    "model_lstm.add(MaxPooling1D(pool_size=4))  \n",
    "model_lstm.add(BatchNormalization())\n",
    "\n",
    "model_lstm.add(LSTM(64, return_sequences=True))\n",
    "model_lstm.add(BatchNormalization())\n",
    "\n",
    "model_lstm.add(LSTM(32))\n",
    "model_lstm.add(BatchNormalization())\n",
    "\n",
    "model_lstm.add(Dense(64, activation='relu'))\n",
    "model_lstm.add(Dropout(0.2))\n",
    "\n",
    "model_lstm.add(Dense(NUM_CLASSES, activation='softmax'))"
   ]
  },
  {
   "cell_type": "code",
   "execution_count": null,
   "metadata": {
    "execution": {
     "iopub.execute_input": "2025-06-17T10:41:16.487514Z",
     "iopub.status.busy": "2025-06-17T10:41:16.486931Z",
     "iopub.status.idle": "2025-06-17T10:41:16.495794Z",
     "shell.execute_reply": "2025-06-17T10:41:16.495140Z",
     "shell.execute_reply.started": "2025-06-17T10:41:16.487466Z"
    },
    "id": "7Gy6UgBD-dkf",
    "trusted": true
   },
   "outputs": [],
   "source": [
    "model_lstm.compile(optimizer=Adam(learning_rate=1e-4),\n",
    "                   loss='categorical_crossentropy',\n",
    "                   metrics=['accuracy'])"
   ]
  },
  {
   "cell_type": "code",
   "execution_count": null,
   "metadata": {
    "execution": {
     "iopub.execute_input": "2025-06-17T10:41:23.302763Z",
     "iopub.status.busy": "2025-06-17T10:41:23.302499Z",
     "iopub.status.idle": "2025-06-17T10:41:23.320251Z",
     "shell.execute_reply": "2025-06-17T10:41:23.319661Z",
     "shell.execute_reply.started": "2025-06-17T10:41:23.302746Z"
    },
    "id": "jhPRr_Xs-f9G",
    "trusted": true
   },
   "outputs": [],
   "source": [
    "model_lstm.summary()"
   ]
  },
  {
   "cell_type": "markdown",
   "metadata": {},
   "source": [
    "### Training the model with early stopping and LR scheduling"
   ]
  },
  {
   "cell_type": "code",
   "execution_count": null,
   "metadata": {
    "execution": {
     "iopub.execute_input": "2025-06-17T10:41:31.894285Z",
     "iopub.status.busy": "2025-06-17T10:41:31.893597Z",
     "iopub.status.idle": "2025-06-17T10:41:31.898287Z",
     "shell.execute_reply": "2025-06-17T10:41:31.897506Z",
     "shell.execute_reply.started": "2025-06-17T10:41:31.894261Z"
    },
    "id": "v6x25TW_-hme",
    "trusted": true
   },
   "outputs": [],
   "source": [
    "early_stop = EarlyStopping(monitor='val_loss', patience=10, restore_best_weights=True)\n",
    "checkpoint = ModelCheckpoint('model_lstm.h5', monitor='val_loss', save_best_only=True)\n",
    "reduce_lr = ReduceLROnPlateau(monitor='val_loss', factor=0.5, patience=5, min_lr=1e-6, verbose=1)"
   ]
  },
  {
   "cell_type": "code",
   "execution_count": null,
   "metadata": {
    "execution": {
     "iopub.execute_input": "2025-06-17T10:41:36.904163Z",
     "iopub.status.busy": "2025-06-17T10:41:36.903664Z",
     "iopub.status.idle": "2025-06-17T11:09:34.150632Z",
     "shell.execute_reply": "2025-06-17T11:09:34.149992Z",
     "shell.execute_reply.started": "2025-06-17T10:41:36.904141Z"
    },
    "id": "HToacG_w-nME",
    "trusted": true
   },
   "outputs": [],
   "source": [
    "start_time = time.time()\n",
    "\n",
    "history_lstm = model_lstm.fit(train_gen,\n",
    "                         validation_data=val_gen,\n",
    "                         epochs=60,\n",
    "                         callbacks=[early_stop, checkpoint, reduce_lr])\n",
    "\n",
    "end_time = time.time()\n",
    "training_time = end_time - start_time\n",
    "print(f\"Czas treningu: {training_time:.2f} sekund\")"
   ]
  },
  {
   "cell_type": "markdown",
   "metadata": {},
   "source": [
    "### Evaluating model performance (accuracy, loss, confusion matrix, classification report, learning curves)"
   ]
  },
  {
   "cell_type": "code",
   "execution_count": null,
   "metadata": {
    "execution": {
     "iopub.execute_input": "2025-06-17T11:13:57.045535Z",
     "iopub.status.busy": "2025-06-17T11:13:57.045185Z",
     "iopub.status.idle": "2025-06-17T11:13:59.394347Z",
     "shell.execute_reply": "2025-06-17T11:13:59.393712Z",
     "shell.execute_reply.started": "2025-06-17T11:13:57.045467Z"
    },
    "id": "6b1YQP0gAHdo",
    "trusted": true
   },
   "outputs": [],
   "source": [
    "test_loss, test_accuracy = model_lstm.evaluate(test_gen, verbose=0)\n",
    "print(f\"Test Accuracy: {test_accuracy:.4f}\")\n",
    "print(f\"Test Loss: {test_loss:.4f}\")"
   ]
  },
  {
   "cell_type": "code",
   "execution_count": null,
   "metadata": {
    "execution": {
     "iopub.execute_input": "2025-06-17T11:14:03.261875Z",
     "iopub.status.busy": "2025-06-17T11:14:03.261590Z",
     "iopub.status.idle": "2025-06-17T11:14:06.100934Z",
     "shell.execute_reply": "2025-06-17T11:14:06.100278Z",
     "shell.execute_reply.started": "2025-06-17T11:14:03.261855Z"
    },
    "id": "SZBqhDSwA-rY",
    "trusted": true
   },
   "outputs": [],
   "source": [
    "y_pred_probs = model_lstm.predict(test_gen, verbose=1)\n",
    "y_pred = np.argmax(y_pred_probs, axis=1)\n",
    "y_true = np.argmax(y_test_onehot, axis=1)"
   ]
  },
  {
   "cell_type": "code",
   "execution_count": null,
   "metadata": {
    "execution": {
     "iopub.execute_input": "2025-06-17T11:14:27.177708Z",
     "iopub.status.busy": "2025-06-17T11:14:27.177410Z",
     "iopub.status.idle": "2025-06-17T11:14:28.112567Z",
     "shell.execute_reply": "2025-06-17T11:14:28.111669Z",
     "shell.execute_reply.started": "2025-06-17T11:14:27.177688Z"
    },
    "id": "ZOW23E4eBLfy",
    "trusted": true
   },
   "outputs": [],
   "source": [
    "cm = confusion_matrix(y_true, y_pred)\n",
    "disp = ConfusionMatrixDisplay(confusion_matrix=cm)\n",
    "plt.figure(figsize=(12, 12))\n",
    "disp.plot(cmap='Blues', colorbar=False, xticks_rotation=90)\n",
    "plt.title(\"Macierz pomyłek na zbiorze testowym\")\n",
    "plt.show()"
   ]
  },
  {
   "cell_type": "code",
   "execution_count": null,
   "metadata": {
    "execution": {
     "iopub.execute_input": "2025-06-17T11:14:58.267440Z",
     "iopub.status.busy": "2025-06-17T11:14:58.267145Z",
     "iopub.status.idle": "2025-06-17T11:15:00.595078Z",
     "shell.execute_reply": "2025-06-17T11:15:00.594166Z",
     "shell.execute_reply.started": "2025-06-17T11:14:58.267418Z"
    },
    "id": "QJDV52TVBfxt",
    "trusted": true
   },
   "outputs": [],
   "source": [
    "y_pred_probs = model_lstm.predict(test_gen, verbose=1)\n",
    "y_pred = np.argmax(y_pred_probs, axis=1)\n",
    "y_true = np.argmax(y_test_onehot, axis=1)\n",
    "\n",
    "print(classification_report(y_true, y_pred, target_names=unique_classes))"
   ]
  },
  {
   "cell_type": "code",
   "execution_count": null,
   "metadata": {
    "execution": {
     "iopub.execute_input": "2025-06-17T11:15:52.423664Z",
     "iopub.status.busy": "2025-06-17T11:15:52.423011Z",
     "iopub.status.idle": "2025-06-17T11:15:52.820502Z",
     "shell.execute_reply": "2025-06-17T11:15:52.819765Z",
     "shell.execute_reply.started": "2025-06-17T11:15:52.423641Z"
    },
    "id": "PMkirwrTCEQA",
    "trusted": true
   },
   "outputs": [],
   "source": [
    "plt.figure(figsize=(14, 5))\n",
    "\n",
    "plt.subplot(1, 2, 1)\n",
    "plt.plot(history_lstm.history['accuracy'], label='Train Accuracy')\n",
    "plt.plot(history_lstm.history['val_accuracy'], label='Validation Accuracy')\n",
    "plt.xlabel('Epoch')\n",
    "plt.ylabel('Accuracy')\n",
    "plt.title('Dokładność podczas treningu i walidacji')\n",
    "plt.legend()\n",
    "plt.grid(True)\n",
    "\n",
    "plt.subplot(1, 2, 2)\n",
    "plt.plot(history_lstm.history['loss'], label='Train Loss')\n",
    "plt.plot(history_lstm.history['val_loss'], label='Validation Loss')\n",
    "plt.xlabel('Epoch')\n",
    "plt.ylabel('Loss')\n",
    "plt.title('Funkcja straty podczas treningu i walidacji')\n",
    "plt.legend()\n",
    "plt.grid(True)\n",
    "\n",
    "plt.tight_layout()\n",
    "plt.show()"
   ]
  },
  {
   "cell_type": "markdown",
   "metadata": {
    "id": "3tuIWF1_-xyX"
   },
   "source": [
    "## GRU"
   ]
  },
  {
   "cell_type": "markdown",
   "metadata": {},
   "source": [
    "### Model architecture and compilation"
   ]
  },
  {
   "cell_type": "code",
   "execution_count": null,
   "metadata": {
    "execution": {
     "iopub.execute_input": "2025-06-17T11:22:09.234444Z",
     "iopub.status.busy": "2025-06-17T11:22:09.233618Z",
     "iopub.status.idle": "2025-06-17T11:22:09.356052Z",
     "shell.execute_reply": "2025-06-17T11:22:09.355342Z",
     "shell.execute_reply.started": "2025-06-17T11:22:09.234417Z"
    },
    "id": "O8WTGDh3-zub",
    "trusted": true
   },
   "outputs": [],
   "source": [
    "model_gru = Sequential()\n",
    "\n",
    "model_gru.add(Conv1D(64, kernel_size=5, strides=1, activation='relu', input_shape=INPUT_SHAPE))\n",
    "model_gru.add(MaxPooling1D(pool_size=4))  \n",
    "model_gru.add(BatchNormalization())\n",
    "\n",
    "model_gru.add(GRU(64, return_sequences=True))\n",
    "model_gru.add(BatchNormalization())\n",
    "\n",
    "model_gru.add(GRU(32))\n",
    "model_gru.add(BatchNormalization())\n",
    "\n",
    "model_gru.add(Dense(64, activation='relu'))\n",
    "model_gru.add(Dropout(0.2))\n",
    "\n",
    "model_gru.add(Dense(NUM_CLASSES, activation='softmax'))"
   ]
  },
  {
   "cell_type": "code",
   "execution_count": null,
   "metadata": {
    "execution": {
     "iopub.execute_input": "2025-06-17T11:23:13.496937Z",
     "iopub.status.busy": "2025-06-17T11:23:13.496379Z",
     "iopub.status.idle": "2025-06-17T11:23:13.504660Z",
     "shell.execute_reply": "2025-06-17T11:23:13.504146Z",
     "shell.execute_reply.started": "2025-06-17T11:23:13.496914Z"
    },
    "id": "fxYSwLjT_Ch4",
    "trusted": true
   },
   "outputs": [],
   "source": [
    "model_gru.compile(optimizer=Adam(learning_rate=1e-4),\n",
    "                  loss='categorical_crossentropy',\n",
    "                  metrics=['accuracy'])"
   ]
  },
  {
   "cell_type": "code",
   "execution_count": null,
   "metadata": {
    "execution": {
     "iopub.execute_input": "2025-06-17T11:23:15.968066Z",
     "iopub.status.busy": "2025-06-17T11:23:15.967558Z",
     "iopub.status.idle": "2025-06-17T11:23:15.985899Z",
     "shell.execute_reply": "2025-06-17T11:23:15.985196Z",
     "shell.execute_reply.started": "2025-06-17T11:23:15.968042Z"
    },
    "id": "mWQuEJkL_FKL",
    "trusted": true
   },
   "outputs": [],
   "source": [
    "model_gru.summary()"
   ]
  },
  {
   "cell_type": "markdown",
   "metadata": {},
   "source": [
    "### Training the model with early stopping and LR scheduling"
   ]
  },
  {
   "cell_type": "code",
   "execution_count": null,
   "metadata": {
    "execution": {
     "iopub.execute_input": "2025-06-17T11:23:22.363884Z",
     "iopub.status.busy": "2025-06-17T11:23:22.363638Z",
     "iopub.status.idle": "2025-06-17T11:23:22.368077Z",
     "shell.execute_reply": "2025-06-17T11:23:22.367433Z",
     "shell.execute_reply.started": "2025-06-17T11:23:22.363868Z"
    },
    "id": "QjNUclfl_RSa",
    "trusted": true
   },
   "outputs": [],
   "source": [
    "early_stop = EarlyStopping(monitor='val_loss', patience=10, restore_best_weights=True)\n",
    "checkpoint = ModelCheckpoint('model_gru.h5', monitor='val_loss', save_best_only=True)\n",
    "reduce_lr = ReduceLROnPlateau(monitor='val_loss', factor=0.5, patience=5, min_lr=1e-6, verbose=1)"
   ]
  },
  {
   "cell_type": "code",
   "execution_count": null,
   "metadata": {
    "execution": {
     "iopub.execute_input": "2025-06-17T11:23:54.508993Z",
     "iopub.status.busy": "2025-06-17T11:23:54.508730Z",
     "iopub.status.idle": "2025-06-17T11:51:33.785982Z",
     "shell.execute_reply": "2025-06-17T11:51:33.785363Z",
     "shell.execute_reply.started": "2025-06-17T11:23:54.508973Z"
    },
    "id": "uaLSztiG_HiN",
    "trusted": true
   },
   "outputs": [],
   "source": [
    "start_time = time.time()\n",
    "\n",
    "history_gru = model_gru.fit(train_gen,\n",
    "                         validation_data=val_gen,\n",
    "                         epochs=60,\n",
    "                         callbacks=[early_stop, checkpoint, reduce_lr])\n",
    "\n",
    "end_time = time.time()\n",
    "training_time = end_time - start_time\n",
    "print(f\"Czas treningu: {training_time:.2f} sekund\")"
   ]
  },
  {
   "cell_type": "markdown",
   "metadata": {},
   "source": [
    "### Evaluating model performance (accuracy, loss, confusion matrix, classification report, learning curves)"
   ]
  },
  {
   "cell_type": "code",
   "execution_count": null,
   "metadata": {
    "execution": {
     "iopub.execute_input": "2025-06-17T11:52:47.238785Z",
     "iopub.status.busy": "2025-06-17T11:52:47.238190Z",
     "iopub.status.idle": "2025-06-17T11:52:49.347781Z",
     "shell.execute_reply": "2025-06-17T11:52:49.347039Z",
     "shell.execute_reply.started": "2025-06-17T11:52:47.238763Z"
    },
    "id": "Ew8MczWzAVcX",
    "trusted": true
   },
   "outputs": [],
   "source": [
    "test_loss, test_accuracy = model_gru.evaluate(test_gen, verbose=0)\n",
    "print(f\"Test Accuracy: {test_accuracy:.4f}\")\n",
    "print(f\"Test Loss: {test_loss:.4f}\")"
   ]
  },
  {
   "cell_type": "code",
   "execution_count": null,
   "metadata": {
    "execution": {
     "iopub.execute_input": "2025-06-17T11:53:04.048634Z",
     "iopub.status.busy": "2025-06-17T11:53:04.047954Z",
     "iopub.status.idle": "2025-06-17T11:53:06.565644Z",
     "shell.execute_reply": "2025-06-17T11:53:06.565004Z",
     "shell.execute_reply.started": "2025-06-17T11:53:04.048612Z"
    },
    "id": "SPBQE-V8A4MO",
    "trusted": true
   },
   "outputs": [],
   "source": [
    "y_pred_probs = model_gru.predict(test_gen, verbose=1)\n",
    "y_pred = np.argmax(y_pred_probs, axis=1)\n",
    "y_true = np.argmax(y_test_onehot, axis=1)"
   ]
  },
  {
   "cell_type": "code",
   "execution_count": null,
   "metadata": {
    "execution": {
     "iopub.execute_input": "2025-06-17T11:53:09.717056Z",
     "iopub.status.busy": "2025-06-17T11:53:09.716316Z",
     "iopub.status.idle": "2025-06-17T11:53:10.090207Z",
     "shell.execute_reply": "2025-06-17T11:53:10.089441Z",
     "shell.execute_reply.started": "2025-06-17T11:53:09.717032Z"
    },
    "id": "wcURJoT0BH9F",
    "trusted": true
   },
   "outputs": [],
   "source": [
    "cm = confusion_matrix(y_true, y_pred)\n",
    "disp = ConfusionMatrixDisplay(confusion_matrix=cm)\n",
    "plt.figure(figsize=(12, 12))\n",
    "disp.plot(cmap='Blues', colorbar=False, xticks_rotation=90)\n",
    "plt.title(\"Macierz pomyłek na zbiorze testowym\")\n",
    "plt.show()"
   ]
  },
  {
   "cell_type": "code",
   "execution_count": null,
   "metadata": {
    "execution": {
     "iopub.execute_input": "2025-06-17T11:53:58.334539Z",
     "iopub.status.busy": "2025-06-17T11:53:58.333801Z",
     "iopub.status.idle": "2025-06-17T11:54:00.400418Z",
     "shell.execute_reply": "2025-06-17T11:54:00.399696Z",
     "shell.execute_reply.started": "2025-06-17T11:53:58.334514Z"
    },
    "id": "etzziDToBhQQ",
    "trusted": true
   },
   "outputs": [],
   "source": [
    "y_pred_probs = model_gru.predict(test_gen, verbose=1)\n",
    "y_pred = np.argmax(y_pred_probs, axis=1)\n",
    "y_true = np.argmax(y_test_onehot, axis=1)\n",
    "\n",
    "print(classification_report(y_true, y_pred, target_names=unique_classes))"
   ]
  },
  {
   "cell_type": "code",
   "execution_count": null,
   "metadata": {
    "execution": {
     "iopub.execute_input": "2025-06-17T11:55:10.298276Z",
     "iopub.status.busy": "2025-06-17T11:55:10.298004Z",
     "iopub.status.idle": "2025-06-17T11:55:10.689992Z",
     "shell.execute_reply": "2025-06-17T11:55:10.689256Z",
     "shell.execute_reply.started": "2025-06-17T11:55:10.298256Z"
    },
    "id": "3wtKO-COCRmX",
    "trusted": true
   },
   "outputs": [],
   "source": [
    "plt.figure(figsize=(14, 5))\n",
    "\n",
    "plt.subplot(1, 2, 1)\n",
    "plt.plot(history_gru.history['accuracy'], label='Train Accuracy')\n",
    "plt.plot(history_gru.history['val_accuracy'], label='Validation Accuracy')\n",
    "plt.xlabel('Epoch')\n",
    "plt.ylabel('Accuracy')\n",
    "plt.title('Dokładność podczas treningu i walidacji')\n",
    "plt.legend()\n",
    "plt.grid(True)\n",
    "\n",
    "plt.subplot(1, 2, 2)\n",
    "plt.plot(history_gru.history['loss'], label='Train Loss')\n",
    "plt.plot(history_gru.history['val_loss'], label='Validation Loss')\n",
    "plt.xlabel('Epoch')\n",
    "plt.ylabel('Loss')\n",
    "plt.title('Funkcja straty podczas treningu i walidacji')\n",
    "plt.legend()\n",
    "plt.grid(True)\n",
    "\n",
    "plt.tight_layout()\n",
    "plt.show()"
   ]
  },
  {
   "cell_type": "code",
   "execution_count": null,
   "metadata": {
    "trusted": true
   },
   "outputs": [],
   "source": [
    "model_gru.save('model_gru_final.h5')"
   ]
  }
 ],
 "metadata": {
  "colab": {
   "provenance": []
  },
  "kaggle": {
   "accelerator": "none",
   "dataSources": [
    {
     "datasetId": 7679524,
     "sourceId": 12192069,
     "sourceType": "datasetVersion"
    }
   ],
   "dockerImageVersionId": 31040,
   "isGpuEnabled": false,
   "isInternetEnabled": true,
   "language": "python",
   "sourceType": "notebook"
  },
  "kernelspec": {
   "display_name": "Python 3",
   "language": "python",
   "name": "python3"
  },
  "language_info": {
   "codemirror_mode": {
    "name": "ipython",
    "version": 3
   },
   "file_extension": ".py",
   "mimetype": "text/x-python",
   "name": "python",
   "nbconvert_exporter": "python",
   "pygments_lexer": "ipython3",
   "version": "3.11.11"
  }
 },
 "nbformat": 4,
 "nbformat_minor": 4
}
