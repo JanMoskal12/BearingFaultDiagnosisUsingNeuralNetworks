{
 "cells": [
  {
   "cell_type": "markdown",
   "metadata": {
    "id": "eH-gqfG5efHQ"
   },
   "source": [
    "# CWRU Bearing Fault Data - 1DCNN Model"
   ]
  },
  {
   "cell_type": "code",
   "execution_count": 1,
   "metadata": {
    "execution": {
     "iopub.execute_input": "2025-06-17T07:20:32.440090Z",
     "iopub.status.busy": "2025-06-17T07:20:32.439836Z",
     "iopub.status.idle": "2025-06-17T07:20:46.492596Z",
     "shell.execute_reply": "2025-06-17T07:20:46.492044Z",
     "shell.execute_reply.started": "2025-06-17T07:20:32.440071Z"
    },
    "id": "75FTMa2zeYaC",
    "trusted": true
   },
   "outputs": [
    {
     "name": "stderr",
     "output_type": "stream",
     "text": [
      "2025-06-17 07:20:34.905873: E external/local_xla/xla/stream_executor/cuda/cuda_fft.cc:477] Unable to register cuFFT factory: Attempting to register factory for plugin cuFFT when one has already been registered\n",
      "WARNING: All log messages before absl::InitializeLog() is called are written to STDERR\n",
      "E0000 00:00:1750144835.105892      35 cuda_dnn.cc:8310] Unable to register cuDNN factory: Attempting to register factory for plugin cuDNN when one has already been registered\n",
      "E0000 00:00:1750144835.164980      35 cuda_blas.cc:1418] Unable to register cuBLAS factory: Attempting to register factory for plugin cuBLAS when one has already been registered\n"
     ]
    }
   ],
   "source": [
    "import numpy as np\n",
    "import pandas as pd\n",
    "import matplotlib.pyplot as plt\n",
    "import seaborn as sns\n",
    "\n",
    "import time\n",
    "import os\n",
    "import pickle\n",
    "\n",
    "import tensorflow as tf\n",
    "import tensorflow.keras as keras\n",
    "\n",
    "from tensorflow.keras.utils import to_categorical\n",
    "from tensorflow.keras.models import Sequential, Model\n",
    "from tensorflow.keras.layers import Conv1D, MaxPooling1D, Flatten, Dense, Dropout, BatchNormalization\n",
    "from tensorflow.keras.regularizers import l2\n",
    "from tensorflow.keras.callbacks import EarlyStopping, ModelCheckpoint, ReduceLROnPlateau\n",
    "from tensorflow.keras.optimizers import Adam\n",
    "from tensorflow.keras.utils import Sequence\n",
    "from sklearn.preprocessing import LabelEncoder\n",
    "from sklearn.model_selection import train_test_split\n",
    "from sklearn.metrics import classification_report, confusion_matrix, ConfusionMatrixDisplay"
   ]
  },
  {
   "cell_type": "code",
   "execution_count": 2,
   "metadata": {
    "execution": {
     "iopub.execute_input": "2025-06-17T07:20:46.494691Z",
     "iopub.status.busy": "2025-06-17T07:20:46.493894Z",
     "iopub.status.idle": "2025-06-17T07:20:46.498159Z",
     "shell.execute_reply": "2025-06-17T07:20:46.497426Z",
     "shell.execute_reply.started": "2025-06-17T07:20:46.494669Z"
    },
    "id": "GsihcHxuO_nm",
    "trusted": true
   },
   "outputs": [],
   "source": [
    "def count_frames(signal_length, frame_length, hop_length):\n",
    "    return max(1, 1 + (signal_length - frame_length) // hop_length)"
   ]
  },
  {
   "cell_type": "code",
   "execution_count": 3,
   "metadata": {
    "execution": {
     "iopub.execute_input": "2025-06-17T07:20:46.499173Z",
     "iopub.status.busy": "2025-06-17T07:20:46.498932Z",
     "iopub.status.idle": "2025-06-17T07:20:46.546393Z",
     "shell.execute_reply": "2025-06-17T07:20:46.545776Z",
     "shell.execute_reply.started": "2025-06-17T07:20:46.499149Z"
    },
    "id": "J-dW2H0OUN_n",
    "trusted": true
   },
   "outputs": [],
   "source": [
    "def fragment_and_normalize(df, frame_size=1024, hop_size=512):\n",
    "    fragments = []\n",
    "    labels = []\n",
    "\n",
    "    for idx, row in df.iterrows():\n",
    "        signal = row['signal']\n",
    "        label = row['label']\n",
    "\n",
    "        for start in range(0, len(signal) - frame_size + 1, hop_size):\n",
    "            frame = signal[start:start+frame_size]\n",
    "\n",
    "\n",
    "            frame = (frame - np.mean(frame)) / np.std(frame)\n",
    "\n",
    "            fragments.append(frame)\n",
    "            labels.append(label)\n",
    "\n",
    "    fragments = np.array(fragments)\n",
    "    labels = np.array(labels)\n",
    "\n",
    "    fragments = fragments[..., np.newaxis]\n",
    "\n",
    "    return fragments, labels\n"
   ]
  },
  {
   "cell_type": "code",
   "execution_count": 4,
   "metadata": {
    "execution": {
     "iopub.execute_input": "2025-06-17T07:20:46.547946Z",
     "iopub.status.busy": "2025-06-17T07:20:46.547742Z",
     "iopub.status.idle": "2025-06-17T07:20:46.559544Z",
     "shell.execute_reply": "2025-06-17T07:20:46.558849Z",
     "shell.execute_reply.started": "2025-06-17T07:20:46.547926Z"
    },
    "id": "64WXDdBjvlJZ",
    "trusted": true
   },
   "outputs": [],
   "source": [
    "def add_gaussian_noise(signal, noise_level=0.005):\n",
    "    noise = np.random.normal(0, noise_level, signal.shape)\n",
    "    return signal + noise"
   ]
  },
  {
   "cell_type": "code",
   "execution_count": 5,
   "metadata": {
    "execution": {
     "iopub.execute_input": "2025-06-17T07:20:46.561108Z",
     "iopub.status.busy": "2025-06-17T07:20:46.560361Z",
     "iopub.status.idle": "2025-06-17T07:20:46.574467Z",
     "shell.execute_reply": "2025-06-17T07:20:46.573786Z",
     "shell.execute_reply.started": "2025-06-17T07:20:46.561084Z"
    },
    "id": "6nyuQGtQvujF",
    "trusted": true
   },
   "outputs": [],
   "source": [
    "def add_masking_noise(signal, mask_fraction=0.1):\n",
    "    signal = signal.copy()\n",
    "    n_mask = int(mask_fraction * signal.shape[0])\n",
    "    mask_indices = np.random.choice(signal.shape[0], n_mask, replace=False)\n",
    "    signal[mask_indices] = 0\n",
    "    return signal"
   ]
  },
  {
   "cell_type": "code",
   "execution_count": 6,
   "metadata": {
    "execution": {
     "iopub.execute_input": "2025-06-17T07:20:46.575492Z",
     "iopub.status.busy": "2025-06-17T07:20:46.575321Z",
     "iopub.status.idle": "2025-06-17T07:20:46.588146Z",
     "shell.execute_reply": "2025-06-17T07:20:46.587653Z",
     "shell.execute_reply.started": "2025-06-17T07:20:46.575478Z"
    },
    "id": "EFXc8Ophvxdj",
    "trusted": true
   },
   "outputs": [],
   "source": [
    "def time_shift(signal, shift_max=50):\n",
    "    shift = np.random.randint(-shift_max, shift_max)\n",
    "    return np.roll(signal, shift)"
   ]
  },
  {
   "cell_type": "code",
   "execution_count": 7,
   "metadata": {
    "execution": {
     "iopub.execute_input": "2025-06-17T07:20:46.589105Z",
     "iopub.status.busy": "2025-06-17T07:20:46.588865Z",
     "iopub.status.idle": "2025-06-17T07:20:46.603393Z",
     "shell.execute_reply": "2025-06-17T07:20:46.602744Z",
     "shell.execute_reply.started": "2025-06-17T07:20:46.589085Z"
    },
    "id": "ZyTWuldIv1V_",
    "trusted": true
   },
   "outputs": [],
   "source": [
    "def amplitude_shift(signal, shift_range=0.1):\n",
    "    shift = np.random.uniform(1 - shift_range, 1 + shift_range)\n",
    "    return signal * shift"
   ]
  },
  {
   "cell_type": "code",
   "execution_count": 8,
   "metadata": {
    "execution": {
     "iopub.execute_input": "2025-06-17T07:20:46.604298Z",
     "iopub.status.busy": "2025-06-17T07:20:46.604082Z",
     "iopub.status.idle": "2025-06-17T07:20:46.617776Z",
     "shell.execute_reply": "2025-06-17T07:20:46.617216Z",
     "shell.execute_reply.started": "2025-06-17T07:20:46.604281Z"
    },
    "id": "MUGZdNEevf4g",
    "trusted": true
   },
   "outputs": [],
   "source": [
    "class DataGenerator(Sequence):\n",
    "    def __init__(self, X, y, batch_size=64, shuffle=True, augment=True):\n",
    "        self.X = X\n",
    "        self.y = y\n",
    "        self.batch_size = batch_size\n",
    "        self.shuffle = shuffle\n",
    "        self.augment = augment\n",
    "        self.indexes = np.arange(len(self.X))\n",
    "        self.on_epoch_end()\n",
    "\n",
    "    def __len__(self):\n",
    "        return int(np.ceil(len(self.X) / self.batch_size))\n",
    "\n",
    "    def __getitem__(self, index):\n",
    "      batch_indexes = self.indexes[index * self.batch_size:(index + 1) * self.batch_size]\n",
    "      X_batch = self.X[batch_indexes]\n",
    "      y_batch = self.y[batch_indexes]\n",
    "\n",
    "      if self.augment:\n",
    "        X_batch = np.array([self.augment_sample(x) for x in X_batch])\n",
    "\n",
    "      return X_batch, y_batch\n",
    "\n",
    "    def on_epoch_end(self):\n",
    "        if self.shuffle:\n",
    "            np.random.shuffle(self.indexes)\n",
    "\n",
    "    def augment_sample(self, signal):\n",
    "        if np.random.rand() < 0.5:\n",
    "            signal = add_gaussian_noise(signal)\n",
    "        if np.random.rand() < 0.5:\n",
    "            signal = add_masking_noise(signal)\n",
    "        if np.random.rand() < 0.5:\n",
    "            signal = time_shift(signal)\n",
    "        if np.random.rand() < 0.5:\n",
    "            signal = amplitude_shift(signal)\n",
    "        return signal"
   ]
  },
  {
   "cell_type": "code",
   "execution_count": null,
   "metadata": {
    "execution": {
     "iopub.execute_input": "2025-06-17T07:20:46.618940Z",
     "iopub.status.busy": "2025-06-17T07:20:46.618663Z",
     "iopub.status.idle": "2025-06-17T07:20:48.602693Z",
     "shell.execute_reply": "2025-06-17T07:20:48.602119Z",
     "shell.execute_reply.started": "2025-06-17T07:20:46.618923Z"
    },
    "id": "wIwJU3MZLiSS",
    "trusted": true
   },
   "outputs": [],
   "source": [
    "with open('48kdrive-end_normalbaseline_loadsplit_data.pkl', 'rb') as f:\n",
    "    data = pickle.load(f)"
   ]
  },
  {
   "cell_type": "code",
   "execution_count": 10,
   "metadata": {
    "execution": {
     "iopub.execute_input": "2025-06-17T07:20:48.605181Z",
     "iopub.status.busy": "2025-06-17T07:20:48.604841Z",
     "iopub.status.idle": "2025-06-17T07:20:48.608581Z",
     "shell.execute_reply": "2025-06-17T07:20:48.607897Z",
     "shell.execute_reply.started": "2025-06-17T07:20:48.605165Z"
    },
    "id": "MRCCfJyllxjc",
    "trusted": true
   },
   "outputs": [],
   "source": [
    "SAMPLE_RATE = 48000\n",
    "FRAME_SIZE = 1024\n",
    "HOP_SIZE = 512\n",
    "\n",
    "INPUT_SHAPE = (FRAME_SIZE, 1)\n",
    "NUM_CLASSES = 14\n",
    "BATCH_SIZE = 64"
   ]
  },
  {
   "cell_type": "markdown",
   "metadata": {
    "id": "Wyg59VPgMGXN"
   },
   "source": [
    "## Preprocessing and exploratory analysis of data for 1DCNN"
   ]
  },
  {
   "cell_type": "markdown",
   "metadata": {
    "id": "XETVnN6OMJUz"
   },
   "source": [
    "### Basic data characteristics"
   ]
  },
  {
   "cell_type": "code",
   "execution_count": 11,
   "metadata": {
    "colab": {
     "base_uri": "https://localhost:8080/",
     "height": 206
    },
    "execution": {
     "iopub.execute_input": "2025-06-17T07:20:48.609331Z",
     "iopub.status.busy": "2025-06-17T07:20:48.609167Z",
     "iopub.status.idle": "2025-06-17T07:20:48.683749Z",
     "shell.execute_reply": "2025-06-17T07:20:48.683060Z",
     "shell.execute_reply.started": "2025-06-17T07:20:48.609318Z"
    },
    "id": "wg6UTFzdfMmT",
    "outputId": "66ed8f03-dc86-40df-c7ae-27e95ce7b73d",
    "trusted": true
   },
   "outputs": [
    {
     "data": {
      "text/html": [
       "<div>\n",
       "<style scoped>\n",
       "    .dataframe tbody tr th:only-of-type {\n",
       "        vertical-align: middle;\n",
       "    }\n",
       "\n",
       "    .dataframe tbody tr th {\n",
       "        vertical-align: top;\n",
       "    }\n",
       "\n",
       "    .dataframe thead th {\n",
       "        text-align: right;\n",
       "    }\n",
       "</style>\n",
       "<table border=\"1\" class=\"dataframe\">\n",
       "  <thead>\n",
       "    <tr style=\"text-align: right;\">\n",
       "      <th></th>\n",
       "      <th>signal</th>\n",
       "      <th>label</th>\n",
       "      <th>load</th>\n",
       "    </tr>\n",
       "  </thead>\n",
       "  <tbody>\n",
       "    <tr>\n",
       "      <th>0</th>\n",
       "      <td>[0.05319692307692307, 0.08866153846153846, 0.0...</td>\n",
       "      <td>Normal</td>\n",
       "      <td>0</td>\n",
       "    </tr>\n",
       "    <tr>\n",
       "      <th>1</th>\n",
       "      <td>[-0.111192, -0.08302892307692307, -0.042348923...</td>\n",
       "      <td>B007</td>\n",
       "      <td>0</td>\n",
       "    </tr>\n",
       "    <tr>\n",
       "      <th>2</th>\n",
       "      <td>[0.03984553846153846, 0.0897046153846154, 0.13...</td>\n",
       "      <td>B014</td>\n",
       "      <td>0</td>\n",
       "    </tr>\n",
       "    <tr>\n",
       "      <th>3</th>\n",
       "      <td>[0.17152399999999998, 0.326772, 0.491618666666...</td>\n",
       "      <td>B021</td>\n",
       "      <td>0</td>\n",
       "    </tr>\n",
       "    <tr>\n",
       "      <th>4</th>\n",
       "      <td>[0.051749333333333335, 0.05592266666666667, 0....</td>\n",
       "      <td>OR021@12</td>\n",
       "      <td>0</td>\n",
       "    </tr>\n",
       "  </tbody>\n",
       "</table>\n",
       "</div>"
      ],
      "text/plain": [
       "                                              signal     label  load\n",
       "0  [0.05319692307692307, 0.08866153846153846, 0.0...    Normal     0\n",
       "1  [-0.111192, -0.08302892307692307, -0.042348923...      B007     0\n",
       "2  [0.03984553846153846, 0.0897046153846154, 0.13...      B014     0\n",
       "3  [0.17152399999999998, 0.326772, 0.491618666666...      B021     0\n",
       "4  [0.051749333333333335, 0.05592266666666667, 0....  OR021@12     0"
      ]
     },
     "execution_count": 11,
     "metadata": {},
     "output_type": "execute_result"
    }
   ],
   "source": [
    "data.head()"
   ]
  },
  {
   "cell_type": "code",
   "execution_count": 12,
   "metadata": {
    "colab": {
     "base_uri": "https://localhost:8080/"
    },
    "execution": {
     "iopub.execute_input": "2025-06-17T07:20:48.684770Z",
     "iopub.status.busy": "2025-06-17T07:20:48.684536Z",
     "iopub.status.idle": "2025-06-17T07:20:48.688338Z",
     "shell.execute_reply": "2025-06-17T07:20:48.687798Z",
     "shell.execute_reply.started": "2025-06-17T07:20:48.684747Z"
    },
    "id": "-W95Yeb_KHX9",
    "outputId": "bbbd0ebf-a163-4ee5-e3f2-8ef97fe6a1b7",
    "trusted": true
   },
   "outputs": [
    {
     "name": "stdout",
     "output_type": "stream",
     "text": [
      "Liczba kombinacji klas uszkodzeń i loadów: 56\n"
     ]
    }
   ],
   "source": [
    "print(f'Liczba kombinacji klas uszkodzeń i loadów: {len(data)}')"
   ]
  },
  {
   "cell_type": "code",
   "execution_count": 13,
   "metadata": {
    "colab": {
     "base_uri": "https://localhost:8080/"
    },
    "execution": {
     "iopub.execute_input": "2025-06-17T07:20:48.689173Z",
     "iopub.status.busy": "2025-06-17T07:20:48.688984Z",
     "iopub.status.idle": "2025-06-17T07:20:48.705757Z",
     "shell.execute_reply": "2025-06-17T07:20:48.705220Z",
     "shell.execute_reply.started": "2025-06-17T07:20:48.689152Z"
    },
    "id": "S9reKxUCKJYv",
    "outputId": "9592121e-b4a8-4501-8c5a-8a39051d12d8",
    "trusted": true
   },
   "outputs": [
    {
     "name": "stdout",
     "output_type": "stream",
     "text": [
      "Liczba unikalnych klass: 14\n",
      "Unikalne klasy: ['Normal' 'B007' 'B014' 'B021' 'OR021@12' 'OR007@12' 'OR021@3' 'OR007@3'\n",
      " 'IR007' 'IR014' 'IR021' 'OR014@6' 'OR021@6' 'OR007@6']\n"
     ]
    }
   ],
   "source": [
    "print(f'Liczba unikalnych klass: {len(data[\"label\"].unique())}')\n",
    "print(f'Unikalne klasy: {data[\"label\"].unique()}')"
   ]
  },
  {
   "cell_type": "code",
   "execution_count": 14,
   "metadata": {
    "colab": {
     "base_uri": "https://localhost:8080/"
    },
    "execution": {
     "iopub.execute_input": "2025-06-17T07:20:48.706751Z",
     "iopub.status.busy": "2025-06-17T07:20:48.706502Z",
     "iopub.status.idle": "2025-06-17T07:20:48.736418Z",
     "shell.execute_reply": "2025-06-17T07:20:48.735742Z",
     "shell.execute_reply.started": "2025-06-17T07:20:48.706729Z"
    },
    "id": "-lrDJ4I1L8Hr",
    "outputId": "4438e3f2-3a57-4d29-f88d-4b7902c875e9",
    "trusted": true
   },
   "outputs": [
    {
     "name": "stdout",
     "output_type": "stream",
     "text": [
      "          count       mean            std     min     max\n",
      "label                                                    \n",
      "B007          4  426868.00  121421.490852  244739  488545\n",
      "B014          4  427389.50  118829.943649  249146  487384\n",
      "B021          4  426232.50  121529.974227  243938  487384\n",
      "IR007         4  425362.00  120949.643436  243938  486224\n",
      "IR014         4  381485.00  211804.888938   63788  489125\n",
      "IR021         4  428073.50  122526.619030  244339  491446\n",
      "Normal        4  424346.75  120275.296949  243938  485643\n",
      "OR007@12      4  395129.25  176774.981564  129969  484483\n",
      "OR007@3       4  395383.00  180521.288903  124602  486224\n",
      "OR007@6       4  426277.50  121827.560575  243538  487964\n",
      "OR014@6       4  426243.00  120746.798624  245140  488545\n",
      "OR021@12      4  397450.25  177934.376732  130549  486804\n",
      "OR021@3       4  397558.75  179276.561521  128663  489705\n",
      "OR021@6       4  428139.00  121199.235732  246342  489125\n"
     ]
    }
   ],
   "source": [
    "data['signal_length'] = data['signal'].apply(len)\n",
    "print(data.groupby('label')['signal_length'].agg(['count', 'mean', 'std', 'min', 'max']))\n",
    "\n",
    "data.drop('signal_length', axis=1, inplace=True)"
   ]
  },
  {
   "cell_type": "markdown",
   "metadata": {},
   "source": [
    "### Data framing and summary"
   ]
  },
  {
   "cell_type": "code",
   "execution_count": 15,
   "metadata": {
    "colab": {
     "base_uri": "https://localhost:8080/"
    },
    "execution": {
     "iopub.execute_input": "2025-06-17T07:20:48.737454Z",
     "iopub.status.busy": "2025-06-17T07:20:48.737212Z",
     "iopub.status.idle": "2025-06-17T07:20:48.760225Z",
     "shell.execute_reply": "2025-06-17T07:20:48.759662Z",
     "shell.execute_reply.started": "2025-06-17T07:20:48.737434Z"
    },
    "id": "BAQisaBlOA5N",
    "outputId": "7623bc4a-2750-40d5-812b-9b754e69c191",
    "trusted": true
   },
   "outputs": [
    {
     "name": "stdout",
     "output_type": "stream",
     "text": [
      "       label  count    mean  min  max  total_frames\n",
      "0       B007      4  832.25  477  953          3329\n",
      "1       B014      4  833.00  485  950          3332\n",
      "2       B021      4  830.75  475  950          3323\n",
      "3      IR007      4  829.25  475  948          3317\n",
      "4      IR014      4  743.75  123  954          2975\n",
      "5      IR021      4  834.50  476  958          3338\n",
      "6     Normal      4  827.50  475  947          3310\n",
      "7   OR007@12      4  770.00  252  945          3080\n",
      "8    OR007@3      4  770.75  242  948          3083\n",
      "9    OR007@6      4  831.00  474  952          3324\n",
      "10   OR014@6      4  831.00  477  953          3324\n",
      "11  OR021@12      4  774.50  253  949          3098\n",
      "12   OR021@3      4  775.00  250  955          3100\n",
      "13   OR021@6      4  835.00  480  954          3340\n"
     ]
    }
   ],
   "source": [
    "data['num_frames'] = data['signal'].apply(lambda x: count_frames(len(x), FRAME_SIZE, HOP_SIZE))\n",
    "\n",
    "frame_stats = data.groupby('label')['num_frames'].agg(['count', 'mean', 'min', 'max', 'sum']).reset_index()\n",
    "frame_stats.rename(columns={'sum': 'total_frames'}, inplace=True)\n",
    "\n",
    "print(frame_stats)\n",
    "\n",
    "data.drop('num_frames', axis=1, inplace=True)"
   ]
  },
  {
   "cell_type": "code",
   "execution_count": 16,
   "metadata": {
    "colab": {
     "base_uri": "https://localhost:8080/"
    },
    "execution": {
     "iopub.execute_input": "2025-06-17T07:20:48.761262Z",
     "iopub.status.busy": "2025-06-17T07:20:48.761016Z",
     "iopub.status.idle": "2025-06-17T07:20:50.796244Z",
     "shell.execute_reply": "2025-06-17T07:20:50.795502Z",
     "shell.execute_reply.started": "2025-06-17T07:20:48.761243Z"
    },
    "id": "w70LVrh5UDI9",
    "outputId": "7defee98-b3ec-45fc-9b36-a5cd76fc3646",
    "trusted": true
   },
   "outputs": [
    {
     "name": "stdout",
     "output_type": "stream",
     "text": [
      "Liczba fragmentów (ramek): 45273\n",
      "Kształt fragmentów (ilość, długość, kanały): (45273, 1024, 1)\n"
     ]
    }
   ],
   "source": [
    "X, y = fragment_and_normalize(data, frame_size=FRAME_SIZE, hop_size=HOP_SIZE)\n",
    "\n",
    "print(f\"Liczba fragmentów (ramek): {X.shape[0]}\")\n",
    "print(f\"Kształt fragmentów (ilość, długość, kanały): {X.shape}\")"
   ]
  },
  {
   "cell_type": "code",
   "execution_count": 17,
   "metadata": {
    "colab": {
     "base_uri": "https://localhost:8080/"
    },
    "execution": {
     "iopub.execute_input": "2025-06-17T07:20:50.797669Z",
     "iopub.status.busy": "2025-06-17T07:20:50.797165Z",
     "iopub.status.idle": "2025-06-17T07:20:50.850312Z",
     "shell.execute_reply": "2025-06-17T07:20:50.849658Z",
     "shell.execute_reply.started": "2025-06-17T07:20:50.797642Z"
    },
    "id": "zwJk7kgdXKto",
    "outputId": "02256509-1d95-4a5f-e3ae-504afea9952f",
    "trusted": true
   },
   "outputs": [
    {
     "name": "stdout",
     "output_type": "stream",
     "text": [
      "Przekonwertowano X na float32\n"
     ]
    }
   ],
   "source": [
    "if X.dtype != np.float32:\n",
    "    X = X.astype(np.float32)\n",
    "    print('Przekonwertowano X na float32')"
   ]
  },
  {
   "cell_type": "code",
   "execution_count": 18,
   "metadata": {
    "colab": {
     "base_uri": "https://localhost:8080/",
     "height": 607
    },
    "execution": {
     "iopub.execute_input": "2025-06-17T07:20:50.851650Z",
     "iopub.status.busy": "2025-06-17T07:20:50.851134Z",
     "iopub.status.idle": "2025-06-17T07:20:51.150735Z",
     "shell.execute_reply": "2025-06-17T07:20:51.150042Z",
     "shell.execute_reply.started": "2025-06-17T07:20:50.851623Z"
    },
    "id": "x0I6SxUrXkIv",
    "outputId": "87947b76-fd54-49df-ab41-38e5c699bea2",
    "trusted": true
   },
   "outputs": [
    {
     "data": {
      "image/png": "[encoded data removed]",
      "text/plain": [
       "<Figure size 1200x600 with 1 Axes>"
      ]
     },
     "metadata": {},
     "output_type": "display_data"
    }
   ],
   "source": [
    "class_counts = {label: count for label, count in zip(np.unique(y), [len(y[y == label]) for label in np.unique(y)])}\n",
    "classes = list(class_counts.keys())\n",
    "counts = list(class_counts.values())\n",
    "\n",
    "colors = plt.cm.tab20.colors\n",
    "\n",
    "plt.figure(figsize=(12, 6))\n",
    "plt.bar(classes, counts, color=colors[:len(classes)])\n",
    "plt.xticks(rotation=45, ha='right')\n",
    "plt.xlabel('Klasa')\n",
    "plt.ylabel('Liczba ramek')\n",
    "plt.title('Rozkład liczby ramek w każdej klasie')\n",
    "plt.grid(axis='y', linestyle='--', alpha=0.7)\n",
    "plt.tight_layout()\n",
    "plt.show()\n"
   ]
  },
  {
   "cell_type": "markdown",
   "metadata": {},
   "source": [
    "### Class label preprocessing"
   ]
  },
  {
   "cell_type": "code",
   "execution_count": 19,
   "metadata": {
    "colab": {
     "base_uri": "https://localhost:8080/"
    },
    "execution": {
     "iopub.execute_input": "2025-06-17T07:20:51.151852Z",
     "iopub.status.busy": "2025-06-17T07:20:51.151564Z",
     "iopub.status.idle": "2025-06-17T07:20:51.165053Z",
     "shell.execute_reply": "2025-06-17T07:20:51.164488Z",
     "shell.execute_reply.started": "2025-06-17T07:20:51.151828Z"
    },
    "id": "o0Tl7KgcYiL-",
    "outputId": "2dee0e71-d4d3-4960-cbcf-262f5b63d758",
    "trusted": true
   },
   "outputs": [
    {
     "name": "stdout",
     "output_type": "stream",
     "text": [
      "Zakodowane klasy: [ 0  1  2  3  4  5  6  7  8  9 10 11 12 13]\n"
     ]
    }
   ],
   "source": [
    "le = LabelEncoder()\n",
    "y_encoded = le.fit_transform(y)\n",
    "print(f'Zakodowane klasy: {np.unique(y_encoded)}')"
   ]
  },
  {
   "cell_type": "code",
   "execution_count": 20,
   "metadata": {
    "colab": {
     "base_uri": "https://localhost:8080/"
    },
    "execution": {
     "iopub.execute_input": "2025-06-17T07:20:51.165980Z",
     "iopub.status.busy": "2025-06-17T07:20:51.165707Z",
     "iopub.status.idle": "2025-06-17T07:20:51.169927Z",
     "shell.execute_reply": "2025-06-17T07:20:51.169279Z",
     "shell.execute_reply.started": "2025-06-17T07:20:51.165964Z"
    },
    "id": "_jksBNwFY64M",
    "outputId": "2ced4299-be4e-45dd-cf0d-6f7990eaa869",
    "trusted": true
   },
   "outputs": [
    {
     "name": "stdout",
     "output_type": "stream",
     "text": [
      "Kształt y przed kodowaniem: (45273,)\n",
      "Kształt y po kodowaniu: (45273,)\n"
     ]
    }
   ],
   "source": [
    "print(f'Kształt y przed kodowaniem: {y.shape}')\n",
    "print(f'Kształt y po kodowaniu: {y_encoded.shape}')"
   ]
  },
  {
   "cell_type": "code",
   "execution_count": 21,
   "metadata": {
    "colab": {
     "base_uri": "https://localhost:8080/"
    },
    "execution": {
     "iopub.execute_input": "2025-06-17T07:20:51.170884Z",
     "iopub.status.busy": "2025-06-17T07:20:51.170656Z",
     "iopub.status.idle": "2025-06-17T07:20:51.184725Z",
     "shell.execute_reply": "2025-06-17T07:20:51.184044Z",
     "shell.execute_reply.started": "2025-06-17T07:20:51.170864Z"
    },
    "id": "Gl7lsnwJZcnM",
    "outputId": "e13c8140-c164-4bb2-cf72-b2cbfbd066f4",
    "trusted": true
   },
   "outputs": [
    {
     "name": "stdout",
     "output_type": "stream",
     "text": [
      "Kształt y one-hot: (45273, 14)\n"
     ]
    }
   ],
   "source": [
    "y_onehot = to_categorical(y_encoded)\n",
    "print(f'Kształt y one-hot: {y_onehot.shape}')"
   ]
  },
  {
   "cell_type": "code",
   "execution_count": 22,
   "metadata": {
    "colab": {
     "base_uri": "https://localhost:8080/"
    },
    "execution": {
     "iopub.execute_input": "2025-06-17T07:20:51.185991Z",
     "iopub.status.busy": "2025-06-17T07:20:51.185507Z",
     "iopub.status.idle": "2025-06-17T07:20:51.197415Z",
     "shell.execute_reply": "2025-06-17T07:20:51.196924Z",
     "shell.execute_reply.started": "2025-06-17T07:20:51.185966Z"
    },
    "id": "M-VyjNL8a5uD",
    "outputId": "6d35e90e-0e36-4c16-98a2-2ba755641c4b",
    "trusted": true
   },
   "outputs": [
    {
     "name": "stdout",
     "output_type": "stream",
     "text": [
      "Kształt y_labels: (45273,)\n"
     ]
    }
   ],
   "source": [
    "y_labels = np.argmax(y_onehot, axis=1)\n",
    "print(f\"Kształt y_labels: {y_labels.shape}\")"
   ]
  },
  {
   "cell_type": "markdown",
   "metadata": {},
   "source": [
    "### Train/Validation/Test split and Data Generators"
   ]
  },
  {
   "cell_type": "code",
   "execution_count": 23,
   "metadata": {
    "colab": {
     "base_uri": "https://localhost:8080/"
    },
    "execution": {
     "iopub.execute_input": "2025-06-17T07:20:51.198465Z",
     "iopub.status.busy": "2025-06-17T07:20:51.198122Z",
     "iopub.status.idle": "2025-06-17T07:20:51.301125Z",
     "shell.execute_reply": "2025-06-17T07:20:51.300491Z",
     "shell.execute_reply.started": "2025-06-17T07:20:51.198444Z"
    },
    "id": "BzIbqQEVbbcC",
    "outputId": "b701cdf2-93f2-4fe3-bc30-74fb84c5e35d",
    "trusted": true
   },
   "outputs": [
    {
     "name": "stdout",
     "output_type": "stream",
     "text": [
      "Train: 31691 ramek\n",
      "Validation: 6791 ramek\n",
      "Test: 6791 ramek\n"
     ]
    }
   ],
   "source": [
    "X_train, X_temp, y_train, y_temp = train_test_split(X, y, test_size=0.3, random_state=2025, stratify=y_labels)\n",
    "X_val, X_test, y_val, y_test = train_test_split(X_temp, y_temp, test_size=0.5, random_state=42, stratify=y_temp)\n",
    "\n",
    "print(f\"Train: {X_train.shape[0]} ramek\")\n",
    "print(f\"Validation: {X_val.shape[0]} ramek\")\n",
    "print(f\"Test: {X_test.shape[0]} ramek\")"
   ]
  },
  {
   "cell_type": "code",
   "execution_count": 24,
   "metadata": {
    "execution": {
     "iopub.execute_input": "2025-06-17T07:20:51.302085Z",
     "iopub.status.busy": "2025-06-17T07:20:51.301856Z",
     "iopub.status.idle": "2025-06-17T07:20:51.326142Z",
     "shell.execute_reply": "2025-06-17T07:20:51.325551Z",
     "shell.execute_reply.started": "2025-06-17T07:20:51.302068Z"
    },
    "id": "Q1XvLFZAhRzx",
    "trusted": true
   },
   "outputs": [],
   "source": [
    "y_train_enc = le.transform(y_train)\n",
    "y_val_enc = le.transform(y_val)\n",
    "y_test_enc = le.transform(y_test)\n",
    "\n",
    "y_train_onehot = to_categorical(y_train_enc)\n",
    "y_val_onehot = to_categorical(y_val_enc)\n",
    "y_test_onehot = to_categorical(y_test_enc)"
   ]
  },
  {
   "cell_type": "code",
   "execution_count": 25,
   "metadata": {
    "execution": {
     "iopub.execute_input": "2025-06-17T07:20:51.327382Z",
     "iopub.status.busy": "2025-06-17T07:20:51.326885Z",
     "iopub.status.idle": "2025-06-17T07:20:51.334012Z",
     "shell.execute_reply": "2025-06-17T07:20:51.333351Z",
     "shell.execute_reply.started": "2025-06-17T07:20:51.327364Z"
    },
    "id": "HuD0sJOTxNqV",
    "trusted": true
   },
   "outputs": [],
   "source": [
    "train_gen = DataGenerator(X_train, y_train_onehot, batch_size=BATCH_SIZE, augment=True)\n",
    "val_gen = DataGenerator(X_val, y_val_onehot, batch_size=BATCH_SIZE, augment=False)\n",
    "test_gen = DataGenerator(X_test, y_test_onehot, batch_size=BATCH_SIZE, augment=False, shuffle=False)"
   ]
  },
  {
   "cell_type": "markdown",
   "metadata": {},
   "source": [
    "## 1DCNN"
   ]
  },
  {
   "cell_type": "markdown",
   "metadata": {},
   "source": [
    "### Model architecture and compilation"
   ]
  },
  {
   "cell_type": "code",
   "execution_count": 26,
   "metadata": {
    "colab": {
     "base_uri": "https://localhost:8080/"
    },
    "execution": {
     "iopub.execute_input": "2025-06-17T07:20:51.334970Z",
     "iopub.status.busy": "2025-06-17T07:20:51.334734Z",
     "iopub.status.idle": "2025-06-17T07:20:53.590061Z",
     "shell.execute_reply": "2025-06-17T07:20:53.589505Z",
     "shell.execute_reply.started": "2025-06-17T07:20:51.334945Z"
    },
    "id": "p0jJBusxfM7_",
    "outputId": "d0f322d0-8b92-468c-8fbe-6cd6ddaf9dc2",
    "trusted": true
   },
   "outputs": [
    {
     "name": "stderr",
     "output_type": "stream",
     "text": [
      "/usr/local/lib/python3.11/dist-packages/keras/src/layers/convolutional/base_conv.py:107: UserWarning: Do not pass an `input_shape`/`input_dim` argument to a layer. When using Sequential models, prefer using an `Input(shape)` object as the first layer in the model instead.\n",
      "  super().__init__(activity_regularizer=activity_regularizer, **kwargs)\n",
      "I0000 00:00:1750144852.333849      35 gpu_device.cc:2022] Created device /job:localhost/replica:0/task:0/device:GPU:0 with 15513 MB memory:  -> device: 0, name: Tesla P100-PCIE-16GB, pci bus id: 0000:00:04.0, compute capability: 6.0\n"
     ]
    }
   ],
   "source": [
    "model = Sequential()\n",
    "\n",
    "model.add(Conv1D(filters=16, kernel_size=5, activation='relu', input_shape=INPUT_SHAPE))\n",
    "model.add(BatchNormalization())\n",
    "model.add(MaxPooling1D(pool_size=2))\n",
    "\n",
    "model.add(Conv1D(filters=32, kernel_size=5, activation='relu',))\n",
    "model.add(BatchNormalization())\n",
    "model.add(MaxPooling1D(pool_size=2))\n",
    "\n",
    "model.add(Flatten())\n",
    "model.add(Dense(64, activation='relu'))\n",
    "model.add(Dropout(0.2))\n",
    "model.add(Dense(NUM_CLASSES, activation='softmax'))"
   ]
  },
  {
   "cell_type": "code",
   "execution_count": 27,
   "metadata": {
    "execution": {
     "iopub.execute_input": "2025-06-17T07:20:53.590883Z",
     "iopub.status.busy": "2025-06-17T07:20:53.590708Z",
     "iopub.status.idle": "2025-06-17T07:20:53.603300Z",
     "shell.execute_reply": "2025-06-17T07:20:53.602660Z",
     "shell.execute_reply.started": "2025-06-17T07:20:53.590869Z"
    },
    "id": "PZ2NhyY_f3S8",
    "trusted": true
   },
   "outputs": [],
   "source": [
    "model.compile(optimizer=Adam(learning_rate=2e-4),\n",
    "              loss='categorical_crossentropy',\n",
    "              metrics=['accuracy'])"
   ]
  },
  {
   "cell_type": "code",
   "execution_count": 28,
   "metadata": {
    "colab": {
     "base_uri": "https://localhost:8080/",
     "height": 481
    },
    "execution": {
     "iopub.execute_input": "2025-06-17T07:20:53.606281Z",
     "iopub.status.busy": "2025-06-17T07:20:53.606092Z",
     "iopub.status.idle": "2025-06-17T07:20:53.623897Z",
     "shell.execute_reply": "2025-06-17T07:20:53.623379Z",
     "shell.execute_reply.started": "2025-06-17T07:20:53.606266Z"
    },
    "id": "YlExgxnHf6Sk",
    "outputId": "4d529fc5-9177-496c-ed4e-9357adb1d5ef",
    "trusted": true
   },
   "outputs": [
    {
     "data": {
      "text/html": [
       "<pre style=\"white-space:pre;overflow-x:auto;line-height:normal;font-family:Menlo,'DejaVu Sans Mono',consolas,'Courier New',monospace\"><span style=\"font-weight: bold\">Model: \"sequential\"</span>\n",
       "</pre>\n"
      ],
      "text/plain": [
       "\u001b[1mModel: \"sequential\"\u001b[0m\n"
      ]
     },
     "metadata": {},
     "output_type": "display_data"
    },
    {
     "data": {
      "text/html": [
       "<pre style=\"white-space:pre;overflow-x:auto;line-height:normal;font-family:Menlo,'DejaVu Sans Mono',consolas,'Courier New',monospace\">┏━━━━━━━━━━━━━━━━━━━━━━━━━━━━━━━━━━━━━━┳━━━━━━━━━━━━━━━━━━━━━━━━━━━━━┳━━━━━━━━━━━━━━━━━┓\n",
       "┃<span style=\"font-weight: bold\"> Layer (type)                         </span>┃<span style=\"font-weight: bold\"> Output Shape                </span>┃<span style=\"font-weight: bold\">         Param # </span>┃\n",
       "┡━━━━━━━━━━━━━━━━━━━━━━━━━━━━━━━━━━━━━━╇━━━━━━━━━━━━━━━━━━━━━━━━━━━━━╇━━━━━━━━━━━━━━━━━┩\n",
       "│ conv1d (<span style=\"color: #0087ff; text-decoration-color: #0087ff\">Conv1D</span>)                      │ (<span style=\"color: #00d7ff; text-decoration-color: #00d7ff\">None</span>, <span style=\"color: #00af00; text-decoration-color: #00af00\">1020</span>, <span style=\"color: #00af00; text-decoration-color: #00af00\">16</span>)            │              <span style=\"color: #00af00; text-decoration-color: #00af00\">96</span> │\n",
       "├──────────────────────────────────────┼─────────────────────────────┼─────────────────┤\n",
       "│ batch_normalization                  │ (<span style=\"color: #00d7ff; text-decoration-color: #00d7ff\">None</span>, <span style=\"color: #00af00; text-decoration-color: #00af00\">1020</span>, <span style=\"color: #00af00; text-decoration-color: #00af00\">16</span>)            │              <span style=\"color: #00af00; text-decoration-color: #00af00\">64</span> │\n",
       "│ (<span style=\"color: #0087ff; text-decoration-color: #0087ff\">BatchNormalization</span>)                 │                             │                 │\n",
       "├──────────────────────────────────────┼─────────────────────────────┼─────────────────┤\n",
       "│ max_pooling1d (<span style=\"color: #0087ff; text-decoration-color: #0087ff\">MaxPooling1D</span>)         │ (<span style=\"color: #00d7ff; text-decoration-color: #00d7ff\">None</span>, <span style=\"color: #00af00; text-decoration-color: #00af00\">510</span>, <span style=\"color: #00af00; text-decoration-color: #00af00\">16</span>)             │               <span style=\"color: #00af00; text-decoration-color: #00af00\">0</span> │\n",
       "├──────────────────────────────────────┼─────────────────────────────┼─────────────────┤\n",
       "│ conv1d_1 (<span style=\"color: #0087ff; text-decoration-color: #0087ff\">Conv1D</span>)                    │ (<span style=\"color: #00d7ff; text-decoration-color: #00d7ff\">None</span>, <span style=\"color: #00af00; text-decoration-color: #00af00\">506</span>, <span style=\"color: #00af00; text-decoration-color: #00af00\">32</span>)             │           <span style=\"color: #00af00; text-decoration-color: #00af00\">2,592</span> │\n",
       "├──────────────────────────────────────┼─────────────────────────────┼─────────────────┤\n",
       "│ batch_normalization_1                │ (<span style=\"color: #00d7ff; text-decoration-color: #00d7ff\">None</span>, <span style=\"color: #00af00; text-decoration-color: #00af00\">506</span>, <span style=\"color: #00af00; text-decoration-color: #00af00\">32</span>)             │             <span style=\"color: #00af00; text-decoration-color: #00af00\">128</span> │\n",
       "│ (<span style=\"color: #0087ff; text-decoration-color: #0087ff\">BatchNormalization</span>)                 │                             │                 │\n",
       "├──────────────────────────────────────┼─────────────────────────────┼─────────────────┤\n",
       "│ max_pooling1d_1 (<span style=\"color: #0087ff; text-decoration-color: #0087ff\">MaxPooling1D</span>)       │ (<span style=\"color: #00d7ff; text-decoration-color: #00d7ff\">None</span>, <span style=\"color: #00af00; text-decoration-color: #00af00\">253</span>, <span style=\"color: #00af00; text-decoration-color: #00af00\">32</span>)             │               <span style=\"color: #00af00; text-decoration-color: #00af00\">0</span> │\n",
       "├──────────────────────────────────────┼─────────────────────────────┼─────────────────┤\n",
       "│ flatten (<span style=\"color: #0087ff; text-decoration-color: #0087ff\">Flatten</span>)                    │ (<span style=\"color: #00d7ff; text-decoration-color: #00d7ff\">None</span>, <span style=\"color: #00af00; text-decoration-color: #00af00\">8096</span>)                │               <span style=\"color: #00af00; text-decoration-color: #00af00\">0</span> │\n",
       "├──────────────────────────────────────┼─────────────────────────────┼─────────────────┤\n",
       "│ dense (<span style=\"color: #0087ff; text-decoration-color: #0087ff\">Dense</span>)                        │ (<span style=\"color: #00d7ff; text-decoration-color: #00d7ff\">None</span>, <span style=\"color: #00af00; text-decoration-color: #00af00\">64</span>)                  │         <span style=\"color: #00af00; text-decoration-color: #00af00\">518,208</span> │\n",
       "├──────────────────────────────────────┼─────────────────────────────┼─────────────────┤\n",
       "│ dropout (<span style=\"color: #0087ff; text-decoration-color: #0087ff\">Dropout</span>)                    │ (<span style=\"color: #00d7ff; text-decoration-color: #00d7ff\">None</span>, <span style=\"color: #00af00; text-decoration-color: #00af00\">64</span>)                  │               <span style=\"color: #00af00; text-decoration-color: #00af00\">0</span> │\n",
       "├──────────────────────────────────────┼─────────────────────────────┼─────────────────┤\n",
       "│ dense_1 (<span style=\"color: #0087ff; text-decoration-color: #0087ff\">Dense</span>)                      │ (<span style=\"color: #00d7ff; text-decoration-color: #00d7ff\">None</span>, <span style=\"color: #00af00; text-decoration-color: #00af00\">14</span>)                  │             <span style=\"color: #00af00; text-decoration-color: #00af00\">910</span> │\n",
       "└──────────────────────────────────────┴─────────────────────────────┴─────────────────┘\n",
       "</pre>\n"
      ],
      "text/plain": [
       "┏━━━━━━━━━━━━━━━━━━━━━━━━━━━━━━━━━━━━━━┳━━━━━━━━━━━━━━━━━━━━━━━━━━━━━┳━━━━━━━━━━━━━━━━━┓\n",
       "┃\u001b[1m \u001b[0m\u001b[1mLayer (type)                        \u001b[0m\u001b[1m \u001b[0m┃\u001b[1m \u001b[0m\u001b[1mOutput Shape               \u001b[0m\u001b[1m \u001b[0m┃\u001b[1m \u001b[0m\u001b[1m        Param #\u001b[0m\u001b[1m \u001b[0m┃\n",
       "┡━━━━━━━━━━━━━━━━━━━━━━━━━━━━━━━━━━━━━━╇━━━━━━━━━━━━━━━━━━━━━━━━━━━━━╇━━━━━━━━━━━━━━━━━┩\n",
       "│ conv1d (\u001b[38;5;33mConv1D\u001b[0m)                      │ (\u001b[38;5;45mNone\u001b[0m, \u001b[38;5;34m1020\u001b[0m, \u001b[38;5;34m16\u001b[0m)            │              \u001b[38;5;34m96\u001b[0m │\n",
       "├──────────────────────────────────────┼─────────────────────────────┼─────────────────┤\n",
       "│ batch_normalization                  │ (\u001b[38;5;45mNone\u001b[0m, \u001b[38;5;34m1020\u001b[0m, \u001b[38;5;34m16\u001b[0m)            │              \u001b[38;5;34m64\u001b[0m │\n",
       "│ (\u001b[38;5;33mBatchNormalization\u001b[0m)                 │                             │                 │\n",
       "├──────────────────────────────────────┼─────────────────────────────┼─────────────────┤\n",
       "│ max_pooling1d (\u001b[38;5;33mMaxPooling1D\u001b[0m)         │ (\u001b[38;5;45mNone\u001b[0m, \u001b[38;5;34m510\u001b[0m, \u001b[38;5;34m16\u001b[0m)             │               \u001b[38;5;34m0\u001b[0m │\n",
       "├──────────────────────────────────────┼─────────────────────────────┼─────────────────┤\n",
       "│ conv1d_1 (\u001b[38;5;33mConv1D\u001b[0m)                    │ (\u001b[38;5;45mNone\u001b[0m, \u001b[38;5;34m506\u001b[0m, \u001b[38;5;34m32\u001b[0m)             │           \u001b[38;5;34m2,592\u001b[0m │\n",
       "├──────────────────────────────────────┼─────────────────────────────┼─────────────────┤\n",
       "│ batch_normalization_1                │ (\u001b[38;5;45mNone\u001b[0m, \u001b[38;5;34m506\u001b[0m, \u001b[38;5;34m32\u001b[0m)             │             \u001b[38;5;34m128\u001b[0m │\n",
       "│ (\u001b[38;5;33mBatchNormalization\u001b[0m)                 │                             │                 │\n",
       "├──────────────────────────────────────┼─────────────────────────────┼─────────────────┤\n",
       "│ max_pooling1d_1 (\u001b[38;5;33mMaxPooling1D\u001b[0m)       │ (\u001b[38;5;45mNone\u001b[0m, \u001b[38;5;34m253\u001b[0m, \u001b[38;5;34m32\u001b[0m)             │               \u001b[38;5;34m0\u001b[0m │\n",
       "├──────────────────────────────────────┼─────────────────────────────┼─────────────────┤\n",
       "│ flatten (\u001b[38;5;33mFlatten\u001b[0m)                    │ (\u001b[38;5;45mNone\u001b[0m, \u001b[38;5;34m8096\u001b[0m)                │               \u001b[38;5;34m0\u001b[0m │\n",
       "├──────────────────────────────────────┼─────────────────────────────┼─────────────────┤\n",
       "│ dense (\u001b[38;5;33mDense\u001b[0m)                        │ (\u001b[38;5;45mNone\u001b[0m, \u001b[38;5;34m64\u001b[0m)                  │         \u001b[38;5;34m518,208\u001b[0m │\n",
       "├──────────────────────────────────────┼─────────────────────────────┼─────────────────┤\n",
       "│ dropout (\u001b[38;5;33mDropout\u001b[0m)                    │ (\u001b[38;5;45mNone\u001b[0m, \u001b[38;5;34m64\u001b[0m)                  │               \u001b[38;5;34m0\u001b[0m │\n",
       "├──────────────────────────────────────┼─────────────────────────────┼─────────────────┤\n",
       "│ dense_1 (\u001b[38;5;33mDense\u001b[0m)                      │ (\u001b[38;5;45mNone\u001b[0m, \u001b[38;5;34m14\u001b[0m)                  │             \u001b[38;5;34m910\u001b[0m │\n",
       "└──────────────────────────────────────┴─────────────────────────────┴─────────────────┘\n"
      ]
     },
     "metadata": {},
     "output_type": "display_data"
    },
    {
     "data": {
      "text/html": [
       "<pre style=\"white-space:pre;overflow-x:auto;line-height:normal;font-family:Menlo,'DejaVu Sans Mono',consolas,'Courier New',monospace\"><span style=\"font-weight: bold\"> Total params: </span><span style=\"color: #00af00; text-decoration-color: #00af00\">521,998</span> (1.99 MB)\n",
       "</pre>\n"
      ],
      "text/plain": [
       "\u001b[1m Total params: \u001b[0m\u001b[38;5;34m521,998\u001b[0m (1.99 MB)\n"
      ]
     },
     "metadata": {},
     "output_type": "display_data"
    },
    {
     "data": {
      "text/html": [
       "<pre style=\"white-space:pre;overflow-x:auto;line-height:normal;font-family:Menlo,'DejaVu Sans Mono',consolas,'Courier New',monospace\"><span style=\"font-weight: bold\"> Trainable params: </span><span style=\"color: #00af00; text-decoration-color: #00af00\">521,902</span> (1.99 MB)\n",
       "</pre>\n"
      ],
      "text/plain": [
       "\u001b[1m Trainable params: \u001b[0m\u001b[38;5;34m521,902\u001b[0m (1.99 MB)\n"
      ]
     },
     "metadata": {},
     "output_type": "display_data"
    },
    {
     "data": {
      "text/html": [
       "<pre style=\"white-space:pre;overflow-x:auto;line-height:normal;font-family:Menlo,'DejaVu Sans Mono',consolas,'Courier New',monospace\"><span style=\"font-weight: bold\"> Non-trainable params: </span><span style=\"color: #00af00; text-decoration-color: #00af00\">96</span> (384.00 B)\n",
       "</pre>\n"
      ],
      "text/plain": [
       "\u001b[1m Non-trainable params: \u001b[0m\u001b[38;5;34m96\u001b[0m (384.00 B)\n"
      ]
     },
     "metadata": {},
     "output_type": "display_data"
    }
   ],
   "source": [
    "model.summary()"
   ]
  },
  {
   "cell_type": "markdown",
   "metadata": {},
   "source": [
    "### Training the model with early stopping and LR scheduling"
   ]
  },
  {
   "cell_type": "code",
   "execution_count": 29,
   "metadata": {
    "execution": {
     "iopub.execute_input": "2025-06-17T07:20:53.624707Z",
     "iopub.status.busy": "2025-06-17T07:20:53.624457Z",
     "iopub.status.idle": "2025-06-17T07:20:53.628415Z",
     "shell.execute_reply": "2025-06-17T07:20:53.627839Z",
     "shell.execute_reply.started": "2025-06-17T07:20:53.624687Z"
    },
    "id": "wI3EKVNynPx-",
    "trusted": true
   },
   "outputs": [],
   "source": [
    "early_stop = EarlyStopping(monitor='val_loss', patience=10, restore_best_weights=True)\n",
    "checkpoint = ModelCheckpoint('model_1dcnn.h5', monitor='val_loss', save_best_only=True)\n",
    "reduce_lr = ReduceLROnPlateau(monitor='val_loss', factor=0.5, patience=5, min_lr=1e-6, verbose=1)"
   ]
  },
  {
   "cell_type": "code",
   "execution_count": 30,
   "metadata": {
    "colab": {
     "base_uri": "https://localhost:8080/"
    },
    "execution": {
     "iopub.execute_input": "2025-06-17T07:20:53.629274Z",
     "iopub.status.busy": "2025-06-17T07:20:53.629023Z",
     "iopub.status.idle": "2025-06-17T07:26:47.480823Z",
     "shell.execute_reply": "2025-06-17T07:26:47.480202Z",
     "shell.execute_reply.started": "2025-06-17T07:20:53.629250Z"
    },
    "id": "7qW_j4ZjgZak",
    "outputId": "e1680df2-e730-436c-ba03-8d71fc66a67f",
    "trusted": true
   },
   "outputs": [
    {
     "name": "stdout",
     "output_type": "stream",
     "text": [
      "Epoch 1/60\n"
     ]
    },
    {
     "name": "stderr",
     "output_type": "stream",
     "text": [
      "/usr/local/lib/python3.11/dist-packages/keras/src/trainers/data_adapters/py_dataset_adapter.py:121: UserWarning: Your `PyDataset` class should call `super().__init__(**kwargs)` in its constructor. `**kwargs` can include `workers`, `use_multiprocessing`, `max_queue_size`. Do not pass these arguments to `fit()`, as they will be ignored.\n",
      "  self._warn_if_super_not_called()\n",
      "WARNING: All log messages before absl::InitializeLog() is called are written to STDERR\n",
      "I0000 00:00:1750144856.647820     100 service.cc:148] XLA service 0x79b1940028f0 initialized for platform CUDA (this does not guarantee that XLA will be used). Devices:\n",
      "I0000 00:00:1750144856.648754     100 service.cc:156]   StreamExecutor device (0): Tesla P100-PCIE-16GB, Compute Capability 6.0\n",
      "I0000 00:00:1750144856.990052     100 cuda_dnn.cc:529] Loaded cuDNN version 90300\n"
     ]
    },
    {
     "name": "stdout",
     "output_type": "stream",
     "text": [
      "\u001b[1m 16/496\u001b[0m \u001b[37m━━━━━━━━━━━━━━━━━━━━\u001b[0m \u001b[1m5s\u001b[0m 11ms/step - accuracy: 0.0979 - loss: 3.3427"
     ]
    },
    {
     "name": "stderr",
     "output_type": "stream",
     "text": [
      "I0000 00:00:1750144859.574152     100 device_compiler.h:188] Compiled cluster using XLA!  This line is logged at most once for the lifetime of the process.\n"
     ]
    },
    {
     "name": "stdout",
     "output_type": "stream",
     "text": [
      "\u001b[1m496/496\u001b[0m \u001b[32m━━━━━━━━━━━━━━━━━━━━\u001b[0m\u001b[37m\u001b[0m \u001b[1m15s\u001b[0m 18ms/step - accuracy: 0.2991 - loss: 2.2088 - val_accuracy: 0.6403 - val_loss: 1.0337 - learning_rate: 2.0000e-04\n",
      "Epoch 2/60\n",
      "\u001b[1m496/496\u001b[0m \u001b[32m━━━━━━━━━━━━━━━━━━━━\u001b[0m\u001b[37m\u001b[0m \u001b[1m6s\u001b[0m 12ms/step - accuracy: 0.6299 - loss: 1.0512 - val_accuracy: 0.7987 - val_loss: 0.5800 - learning_rate: 2.0000e-04\n",
      "Epoch 3/60\n",
      "\u001b[1m496/496\u001b[0m \u001b[32m━━━━━━━━━━━━━━━━━━━━\u001b[0m\u001b[37m\u001b[0m \u001b[1m6s\u001b[0m 12ms/step - accuracy: 0.7303 - loss: 0.7581 - val_accuracy: 0.8420 - val_loss: 0.4514 - learning_rate: 2.0000e-04\n",
      "Epoch 4/60\n",
      "\u001b[1m496/496\u001b[0m \u001b[32m━━━━━━━━━━━━━━━━━━━━\u001b[0m\u001b[37m\u001b[0m \u001b[1m6s\u001b[0m 12ms/step - accuracy: 0.7794 - loss: 0.6141 - val_accuracy: 0.8682 - val_loss: 0.3715 - learning_rate: 2.0000e-04\n",
      "Epoch 5/60\n",
      "\u001b[1m496/496\u001b[0m \u001b[32m━━━━━━━━━━━━━━━━━━━━\u001b[0m\u001b[37m\u001b[0m \u001b[1m6s\u001b[0m 12ms/step - accuracy: 0.8040 - loss: 0.5269 - val_accuracy: 0.8848 - val_loss: 0.3321 - learning_rate: 2.0000e-04\n",
      "Epoch 6/60\n",
      "\u001b[1m496/496\u001b[0m \u001b[32m━━━━━━━━━━━━━━━━━━━━\u001b[0m\u001b[37m\u001b[0m \u001b[1m6s\u001b[0m 12ms/step - accuracy: 0.8349 - loss: 0.4542 - val_accuracy: 0.8949 - val_loss: 0.2923 - learning_rate: 2.0000e-04\n",
      "Epoch 7/60\n",
      "\u001b[1m496/496\u001b[0m \u001b[32m━━━━━━━━━━━━━━━━━━━━\u001b[0m\u001b[37m\u001b[0m \u001b[1m6s\u001b[0m 11ms/step - accuracy: 0.8458 - loss: 0.4251 - val_accuracy: 0.8937 - val_loss: 0.3003 - learning_rate: 2.0000e-04\n",
      "Epoch 8/60\n",
      "\u001b[1m496/496\u001b[0m \u001b[32m━━━━━━━━━━━━━━━━━━━━\u001b[0m\u001b[37m\u001b[0m \u001b[1m6s\u001b[0m 12ms/step - accuracy: 0.8571 - loss: 0.3923 - val_accuracy: 0.9105 - val_loss: 0.2575 - learning_rate: 2.0000e-04\n",
      "Epoch 9/60\n",
      "\u001b[1m496/496\u001b[0m \u001b[32m━━━━━━━━━━━━━━━━━━━━\u001b[0m\u001b[37m\u001b[0m \u001b[1m6s\u001b[0m 12ms/step - accuracy: 0.8671 - loss: 0.3638 - val_accuracy: 0.9125 - val_loss: 0.2364 - learning_rate: 2.0000e-04\n",
      "Epoch 10/60\n",
      "\u001b[1m496/496\u001b[0m \u001b[32m━━━━━━━━━━━━━━━━━━━━\u001b[0m\u001b[37m\u001b[0m \u001b[1m6s\u001b[0m 11ms/step - accuracy: 0.8740 - loss: 0.3394 - val_accuracy: 0.9069 - val_loss: 0.2649 - learning_rate: 2.0000e-04\n",
      "Epoch 11/60\n",
      "\u001b[1m496/496\u001b[0m \u001b[32m━━━━━━━━━━━━━━━━━━━━\u001b[0m\u001b[37m\u001b[0m \u001b[1m6s\u001b[0m 12ms/step - accuracy: 0.8822 - loss: 0.3254 - val_accuracy: 0.9230 - val_loss: 0.2147 - learning_rate: 2.0000e-04\n",
      "Epoch 12/60\n",
      "\u001b[1m496/496\u001b[0m \u001b[32m━━━━━━━━━━━━━━━━━━━━\u001b[0m\u001b[37m\u001b[0m \u001b[1m6s\u001b[0m 11ms/step - accuracy: 0.8958 - loss: 0.2937 - val_accuracy: 0.9302 - val_loss: 0.2025 - learning_rate: 2.0000e-04\n",
      "Epoch 13/60\n",
      "\u001b[1m496/496\u001b[0m \u001b[32m━━━━━━━━━━━━━━━━━━━━\u001b[0m\u001b[37m\u001b[0m \u001b[1m6s\u001b[0m 12ms/step - accuracy: 0.8940 - loss: 0.2929 - val_accuracy: 0.9301 - val_loss: 0.1964 - learning_rate: 2.0000e-04\n",
      "Epoch 14/60\n",
      "\u001b[1m496/496\u001b[0m \u001b[32m━━━━━━━━━━━━━━━━━━━━\u001b[0m\u001b[37m\u001b[0m \u001b[1m6s\u001b[0m 12ms/step - accuracy: 0.8973 - loss: 0.2774 - val_accuracy: 0.9352 - val_loss: 0.1889 - learning_rate: 2.0000e-04\n",
      "Epoch 15/60\n",
      "\u001b[1m496/496\u001b[0m \u001b[32m━━━━━━━━━━━━━━━━━━━━\u001b[0m\u001b[37m\u001b[0m \u001b[1m6s\u001b[0m 12ms/step - accuracy: 0.9048 - loss: 0.2640 - val_accuracy: 0.9410 - val_loss: 0.1734 - learning_rate: 2.0000e-04\n",
      "Epoch 16/60\n",
      "\u001b[1m496/496\u001b[0m \u001b[32m━━━━━━━━━━━━━━━━━━━━\u001b[0m\u001b[37m\u001b[0m \u001b[1m6s\u001b[0m 11ms/step - accuracy: 0.9059 - loss: 0.2635 - val_accuracy: 0.9411 - val_loss: 0.1775 - learning_rate: 2.0000e-04\n",
      "Epoch 17/60\n",
      "\u001b[1m496/496\u001b[0m \u001b[32m━━━━━━━━━━━━━━━━━━━━\u001b[0m\u001b[37m\u001b[0m \u001b[1m6s\u001b[0m 12ms/step - accuracy: 0.9109 - loss: 0.2451 - val_accuracy: 0.9387 - val_loss: 0.1686 - learning_rate: 2.0000e-04\n",
      "Epoch 18/60\n",
      "\u001b[1m496/496\u001b[0m \u001b[32m━━━━━━━━━━━━━━━━━━━━\u001b[0m\u001b[37m\u001b[0m \u001b[1m6s\u001b[0m 12ms/step - accuracy: 0.9131 - loss: 0.2402 - val_accuracy: 0.9418 - val_loss: 0.1643 - learning_rate: 2.0000e-04\n",
      "Epoch 19/60\n",
      "\u001b[1m496/496\u001b[0m \u001b[32m━━━━━━━━━━━━━━━━━━━━\u001b[0m\u001b[37m\u001b[0m \u001b[1m6s\u001b[0m 12ms/step - accuracy: 0.9177 - loss: 0.2296 - val_accuracy: 0.9467 - val_loss: 0.1567 - learning_rate: 2.0000e-04\n",
      "Epoch 20/60\n",
      "\u001b[1m496/496\u001b[0m \u001b[32m━━━━━━━━━━━━━━━━━━━━\u001b[0m\u001b[37m\u001b[0m \u001b[1m6s\u001b[0m 11ms/step - accuracy: 0.9188 - loss: 0.2245 - val_accuracy: 0.9408 - val_loss: 0.1727 - learning_rate: 2.0000e-04\n",
      "Epoch 21/60\n",
      "\u001b[1m496/496\u001b[0m \u001b[32m━━━━━━━━━━━━━━━━━━━━\u001b[0m\u001b[37m\u001b[0m \u001b[1m6s\u001b[0m 12ms/step - accuracy: 0.9208 - loss: 0.2229 - val_accuracy: 0.9384 - val_loss: 0.1741 - learning_rate: 2.0000e-04\n",
      "Epoch 22/60\n",
      "\u001b[1m496/496\u001b[0m \u001b[32m━━━━━━━━━━━━━━━━━━━━\u001b[0m\u001b[37m\u001b[0m \u001b[1m6s\u001b[0m 11ms/step - accuracy: 0.9230 - loss: 0.2089 - val_accuracy: 0.9412 - val_loss: 0.1625 - learning_rate: 2.0000e-04\n",
      "Epoch 23/60\n",
      "\u001b[1m496/496\u001b[0m \u001b[32m━━━━━━━━━━━━━━━━━━━━\u001b[0m\u001b[37m\u001b[0m \u001b[1m6s\u001b[0m 12ms/step - accuracy: 0.9176 - loss: 0.2224 - val_accuracy: 0.9496 - val_loss: 0.1438 - learning_rate: 2.0000e-04\n",
      "Epoch 24/60\n",
      "\u001b[1m496/496\u001b[0m \u001b[32m━━━━━━━━━━━━━━━━━━━━\u001b[0m\u001b[37m\u001b[0m \u001b[1m6s\u001b[0m 11ms/step - accuracy: 0.9275 - loss: 0.2002 - val_accuracy: 0.9461 - val_loss: 0.1493 - learning_rate: 2.0000e-04\n",
      "Epoch 25/60\n",
      "\u001b[1m496/496\u001b[0m \u001b[32m━━━━━━━━━━━━━━━━━━━━\u001b[0m\u001b[37m\u001b[0m \u001b[1m6s\u001b[0m 12ms/step - accuracy: 0.9229 - loss: 0.2093 - val_accuracy: 0.9502 - val_loss: 0.1450 - learning_rate: 2.0000e-04\n",
      "Epoch 26/60\n",
      "\u001b[1m496/496\u001b[0m \u001b[32m━━━━━━━━━━━━━━━━━━━━\u001b[0m\u001b[37m\u001b[0m \u001b[1m6s\u001b[0m 11ms/step - accuracy: 0.9282 - loss: 0.1996 - val_accuracy: 0.9446 - val_loss: 0.1574 - learning_rate: 2.0000e-04\n",
      "Epoch 27/60\n",
      "\u001b[1m496/496\u001b[0m \u001b[32m━━━━━━━━━━━━━━━━━━━━\u001b[0m\u001b[37m\u001b[0m \u001b[1m6s\u001b[0m 11ms/step - accuracy: 0.9303 - loss: 0.1945 - val_accuracy: 0.9443 - val_loss: 0.1561 - learning_rate: 2.0000e-04\n",
      "Epoch 28/60\n",
      "\u001b[1m496/496\u001b[0m \u001b[32m━━━━━━━━━━━━━━━━━━━━\u001b[0m\u001b[37m\u001b[0m \u001b[1m6s\u001b[0m 12ms/step - accuracy: 0.9291 - loss: 0.1934 - val_accuracy: 0.9480 - val_loss: 0.1435 - learning_rate: 2.0000e-04\n",
      "Epoch 29/60\n",
      "\u001b[1m496/496\u001b[0m \u001b[32m━━━━━━━━━━━━━━━━━━━━\u001b[0m\u001b[37m\u001b[0m \u001b[1m6s\u001b[0m 11ms/step - accuracy: 0.9368 - loss: 0.1793 - val_accuracy: 0.9486 - val_loss: 0.1455 - learning_rate: 2.0000e-04\n",
      "Epoch 30/60\n",
      "\u001b[1m496/496\u001b[0m \u001b[32m━━━━━━━━━━━━━━━━━━━━\u001b[0m\u001b[37m\u001b[0m \u001b[1m6s\u001b[0m 12ms/step - accuracy: 0.9342 - loss: 0.1808 - val_accuracy: 0.9485 - val_loss: 0.1446 - learning_rate: 2.0000e-04\n",
      "Epoch 31/60\n",
      "\u001b[1m496/496\u001b[0m \u001b[32m━━━━━━━━━━━━━━━━━━━━\u001b[0m\u001b[37m\u001b[0m \u001b[1m6s\u001b[0m 12ms/step - accuracy: 0.9336 - loss: 0.1794 - val_accuracy: 0.9514 - val_loss: 0.1395 - learning_rate: 2.0000e-04\n",
      "Epoch 32/60\n",
      "\u001b[1m496/496\u001b[0m \u001b[32m━━━━━━━━━━━━━━━━━━━━\u001b[0m\u001b[37m\u001b[0m \u001b[1m6s\u001b[0m 12ms/step - accuracy: 0.9364 - loss: 0.1796 - val_accuracy: 0.9558 - val_loss: 0.1331 - learning_rate: 2.0000e-04\n",
      "Epoch 33/60\n",
      "\u001b[1m496/496\u001b[0m \u001b[32m━━━━━━━━━━━━━━━━━━━━\u001b[0m\u001b[37m\u001b[0m \u001b[1m6s\u001b[0m 12ms/step - accuracy: 0.9397 - loss: 0.1740 - val_accuracy: 0.9594 - val_loss: 0.1206 - learning_rate: 2.0000e-04\n",
      "Epoch 34/60\n",
      "\u001b[1m496/496\u001b[0m \u001b[32m━━━━━━━━━━━━━━━━━━━━\u001b[0m\u001b[37m\u001b[0m \u001b[1m6s\u001b[0m 11ms/step - accuracy: 0.9421 - loss: 0.1623 - val_accuracy: 0.9585 - val_loss: 0.1255 - learning_rate: 2.0000e-04\n",
      "Epoch 35/60\n",
      "\u001b[1m496/496\u001b[0m \u001b[32m━━━━━━━━━━━━━━━━━━━━\u001b[0m\u001b[37m\u001b[0m \u001b[1m6s\u001b[0m 11ms/step - accuracy: 0.9419 - loss: 0.1697 - val_accuracy: 0.9576 - val_loss: 0.1272 - learning_rate: 2.0000e-04\n",
      "Epoch 36/60\n",
      "\u001b[1m496/496\u001b[0m \u001b[32m━━━━━━━━━━━━━━━━━━━━\u001b[0m\u001b[37m\u001b[0m \u001b[1m6s\u001b[0m 12ms/step - accuracy: 0.9425 - loss: 0.1630 - val_accuracy: 0.9571 - val_loss: 0.1232 - learning_rate: 2.0000e-04\n",
      "Epoch 37/60\n",
      "\u001b[1m496/496\u001b[0m \u001b[32m━━━━━━━━━━━━━━━━━━━━\u001b[0m\u001b[37m\u001b[0m \u001b[1m6s\u001b[0m 11ms/step - accuracy: 0.9415 - loss: 0.1584 - val_accuracy: 0.9582 - val_loss: 0.1228 - learning_rate: 2.0000e-04\n",
      "Epoch 38/60\n",
      "\u001b[1m496/496\u001b[0m \u001b[32m━━━━━━━━━━━━━━━━━━━━\u001b[0m\u001b[37m\u001b[0m \u001b[1m6s\u001b[0m 12ms/step - accuracy: 0.9442 - loss: 0.1554 - val_accuracy: 0.9633 - val_loss: 0.1127 - learning_rate: 2.0000e-04\n",
      "Epoch 39/60\n",
      "\u001b[1m496/496\u001b[0m \u001b[32m━━━━━━━━━━━━━━━━━━━━\u001b[0m\u001b[37m\u001b[0m \u001b[1m6s\u001b[0m 11ms/step - accuracy: 0.9467 - loss: 0.1502 - val_accuracy: 0.9580 - val_loss: 0.1278 - learning_rate: 2.0000e-04\n",
      "Epoch 40/60\n",
      "\u001b[1m496/496\u001b[0m \u001b[32m━━━━━━━━━━━━━━━━━━━━\u001b[0m\u001b[37m\u001b[0m \u001b[1m6s\u001b[0m 11ms/step - accuracy: 0.9472 - loss: 0.1519 - val_accuracy: 0.9619 - val_loss: 0.1154 - learning_rate: 2.0000e-04\n",
      "Epoch 41/60\n",
      "\u001b[1m496/496\u001b[0m \u001b[32m━━━━━━━━━━━━━━━━━━━━\u001b[0m\u001b[37m\u001b[0m \u001b[1m6s\u001b[0m 12ms/step - accuracy: 0.9421 - loss: 0.1547 - val_accuracy: 0.9602 - val_loss: 0.1131 - learning_rate: 2.0000e-04\n",
      "Epoch 42/60\n",
      "\u001b[1m496/496\u001b[0m \u001b[32m━━━━━━━━━━━━━━━━━━━━\u001b[0m\u001b[37m\u001b[0m \u001b[1m6s\u001b[0m 11ms/step - accuracy: 0.9449 - loss: 0.1554 - val_accuracy: 0.9557 - val_loss: 0.1274 - learning_rate: 2.0000e-04\n",
      "Epoch 43/60\n",
      "\u001b[1m496/496\u001b[0m \u001b[32m━━━━━━━━━━━━━━━━━━━━\u001b[0m\u001b[37m\u001b[0m \u001b[1m6s\u001b[0m 12ms/step - accuracy: 0.9467 - loss: 0.1509 - val_accuracy: 0.9639 - val_loss: 0.1081 - learning_rate: 2.0000e-04\n",
      "Epoch 44/60\n",
      "\u001b[1m496/496\u001b[0m \u001b[32m━━━━━━━━━━━━━━━━━━━━\u001b[0m\u001b[37m\u001b[0m \u001b[1m6s\u001b[0m 11ms/step - accuracy: 0.9473 - loss: 0.1517 - val_accuracy: 0.9633 - val_loss: 0.1087 - learning_rate: 2.0000e-04\n",
      "Epoch 45/60\n",
      "\u001b[1m496/496\u001b[0m \u001b[32m━━━━━━━━━━━━━━━━━━━━\u001b[0m\u001b[37m\u001b[0m \u001b[1m6s\u001b[0m 12ms/step - accuracy: 0.9465 - loss: 0.1484 - val_accuracy: 0.9629 - val_loss: 0.1089 - learning_rate: 2.0000e-04\n",
      "Epoch 46/60\n",
      "\u001b[1m496/496\u001b[0m \u001b[32m━━━━━━━━━━━━━━━━━━━━\u001b[0m\u001b[37m\u001b[0m \u001b[1m6s\u001b[0m 12ms/step - accuracy: 0.9487 - loss: 0.1483 - val_accuracy: 0.9529 - val_loss: 0.1425 - learning_rate: 2.0000e-04\n",
      "Epoch 47/60\n",
      "\u001b[1m496/496\u001b[0m \u001b[32m━━━━━━━━━━━━━━━━━━━━\u001b[0m\u001b[37m\u001b[0m \u001b[1m6s\u001b[0m 12ms/step - accuracy: 0.9490 - loss: 0.1456 - val_accuracy: 0.9592 - val_loss: 0.1217 - learning_rate: 2.0000e-04\n",
      "Epoch 48/60\n",
      "\u001b[1m496/496\u001b[0m \u001b[32m━━━━━━━━━━━━━━━━━━━━\u001b[0m\u001b[37m\u001b[0m \u001b[1m6s\u001b[0m 12ms/step - accuracy: 0.9490 - loss: 0.1402 - val_accuracy: 0.9663 - val_loss: 0.1019 - learning_rate: 2.0000e-04\n",
      "Epoch 49/60\n",
      "\u001b[1m496/496\u001b[0m \u001b[32m━━━━━━━━━━━━━━━━━━━━\u001b[0m\u001b[37m\u001b[0m \u001b[1m6s\u001b[0m 12ms/step - accuracy: 0.9494 - loss: 0.1477 - val_accuracy: 0.9564 - val_loss: 0.1227 - learning_rate: 2.0000e-04\n",
      "Epoch 50/60\n",
      "\u001b[1m496/496\u001b[0m \u001b[32m━━━━━━━━━━━━━━━━━━━━\u001b[0m\u001b[37m\u001b[0m \u001b[1m6s\u001b[0m 12ms/step - accuracy: 0.9516 - loss: 0.1363 - val_accuracy: 0.9630 - val_loss: 0.1100 - learning_rate: 2.0000e-04\n",
      "Epoch 51/60\n",
      "\u001b[1m496/496\u001b[0m \u001b[32m━━━━━━━━━━━━━━━━━━━━\u001b[0m\u001b[37m\u001b[0m \u001b[1m6s\u001b[0m 12ms/step - accuracy: 0.9510 - loss: 0.1389 - val_accuracy: 0.9663 - val_loss: 0.0988 - learning_rate: 2.0000e-04\n",
      "Epoch 52/60\n",
      "\u001b[1m496/496\u001b[0m \u001b[32m━━━━━━━━━━━━━━━━━━━━\u001b[0m\u001b[37m\u001b[0m \u001b[1m6s\u001b[0m 12ms/step - accuracy: 0.9539 - loss: 0.1294 - val_accuracy: 0.9622 - val_loss: 0.1126 - learning_rate: 2.0000e-04\n",
      "Epoch 53/60\n",
      "\u001b[1m496/496\u001b[0m \u001b[32m━━━━━━━━━━━━━━━━━━━━\u001b[0m\u001b[37m\u001b[0m \u001b[1m6s\u001b[0m 12ms/step - accuracy: 0.9506 - loss: 0.1419 - val_accuracy: 0.9622 - val_loss: 0.1087 - learning_rate: 2.0000e-04\n",
      "Epoch 54/60\n",
      "\u001b[1m496/496\u001b[0m \u001b[32m━━━━━━━━━━━━━━━━━━━━\u001b[0m\u001b[37m\u001b[0m \u001b[1m6s\u001b[0m 11ms/step - accuracy: 0.9535 - loss: 0.1292 - val_accuracy: 0.9474 - val_loss: 0.1398 - learning_rate: 2.0000e-04\n",
      "Epoch 55/60\n",
      "\u001b[1m496/496\u001b[0m \u001b[32m━━━━━━━━━━━━━━━━━━━━\u001b[0m\u001b[37m\u001b[0m \u001b[1m6s\u001b[0m 11ms/step - accuracy: 0.9523 - loss: 0.1407 - val_accuracy: 0.9663 - val_loss: 0.1050 - learning_rate: 2.0000e-04\n",
      "Epoch 56/60\n",
      "\u001b[1m496/496\u001b[0m \u001b[32m━━━━━━━━━━━━━━━━━━━━\u001b[0m\u001b[37m\u001b[0m \u001b[1m0s\u001b[0m 11ms/step - accuracy: 0.9519 - loss: 0.1367\n",
      "Epoch 56: ReduceLROnPlateau reducing learning rate to 9.999999747378752e-05.\n",
      "\u001b[1m496/496\u001b[0m \u001b[32m━━━━━━━━━━━━━━━━━━━━\u001b[0m\u001b[37m\u001b[0m \u001b[1m6s\u001b[0m 12ms/step - accuracy: 0.9519 - loss: 0.1367 - val_accuracy: 0.9591 - val_loss: 0.1176 - learning_rate: 2.0000e-04\n",
      "Epoch 57/60\n",
      "\u001b[1m496/496\u001b[0m \u001b[32m━━━━━━━━━━━━━━━━━━━━\u001b[0m\u001b[37m\u001b[0m \u001b[1m6s\u001b[0m 12ms/step - accuracy: 0.9551 - loss: 0.1247 - val_accuracy: 0.9622 - val_loss: 0.1116 - learning_rate: 1.0000e-04\n",
      "Epoch 58/60\n",
      "\u001b[1m496/496\u001b[0m \u001b[32m━━━━━━━━━━━━━━━━━━━━\u001b[0m\u001b[37m\u001b[0m \u001b[1m6s\u001b[0m 12ms/step - accuracy: 0.9559 - loss: 0.1233 - val_accuracy: 0.9678 - val_loss: 0.0976 - learning_rate: 1.0000e-04\n",
      "Epoch 59/60\n",
      "\u001b[1m496/496\u001b[0m \u001b[32m━━━━━━━━━━━━━━━━━━━━\u001b[0m\u001b[37m\u001b[0m \u001b[1m6s\u001b[0m 12ms/step - accuracy: 0.9578 - loss: 0.1224 - val_accuracy: 0.9679 - val_loss: 0.0962 - learning_rate: 1.0000e-04\n",
      "Epoch 60/60\n",
      "\u001b[1m496/496\u001b[0m \u001b[32m━━━━━━━━━━━━━━━━━━━━\u001b[0m\u001b[37m\u001b[0m \u001b[1m6s\u001b[0m 12ms/step - accuracy: 0.9592 - loss: 0.1171 - val_accuracy: 0.9680 - val_loss: 0.0927 - learning_rate: 1.0000e-04\n",
      "Czas treningu: 353.84 sekund\n"
     ]
    }
   ],
   "source": [
    "start_time = time.time()\n",
    "\n",
    "history = model.fit(train_gen,\n",
    "                    validation_data=val_gen,\n",
    "                    epochs=60,\n",
    "                    callbacks=[early_stop, checkpoint, reduce_lr])\n",
    "\n",
    "end_time = time.time()\n",
    "training_time = end_time - start_time\n",
    "print(f\"Czas treningu: {training_time:.2f} sekund\")"
   ]
  },
  {
   "cell_type": "markdown",
   "metadata": {},
   "source": [
    "### Evaluating model performance (accuracy, loss, confusion matrix, classification report, learning curves)"
   ]
  },
  {
   "cell_type": "code",
   "execution_count": 31,
   "metadata": {
    "execution": {
     "iopub.execute_input": "2025-06-17T07:26:47.481742Z",
     "iopub.status.busy": "2025-06-17T07:26:47.481502Z",
     "iopub.status.idle": "2025-06-17T07:26:48.748095Z",
     "shell.execute_reply": "2025-06-17T07:26:48.747511Z",
     "shell.execute_reply.started": "2025-06-17T07:26:47.481725Z"
    },
    "id": "96uz3mavYdZ8",
    "trusted": true
   },
   "outputs": [
    {
     "name": "stdout",
     "output_type": "stream",
     "text": [
      "Test Accuracy: 0.9620\n",
      "Test Loss: 0.1039\n",
      "\u001b[1m107/107\u001b[0m \u001b[32m━━━━━━━━━━━━━━━━━━━━\u001b[0m\u001b[37m\u001b[0m \u001b[1m1s\u001b[0m 5ms/step\n"
     ]
    }
   ],
   "source": [
    "unique_classes = ['B007', 'B014', 'B021', 'IR007', 'IR014', 'IR021', 'Normal',\n",
    "                  'OR007@12', 'OR007@3', 'OR007@6', 'OR014@6', 'OR021@12', 'OR021@3', 'OR021@6']\n",
    "\n",
    "test_loss, test_accuracy = model.evaluate(test_gen, verbose=0)\n",
    "print(f\"Test Accuracy: {test_accuracy:.4f}\")\n",
    "print(f\"Test Loss: {test_loss:.4f}\")\n",
    "\n",
    "y_pred_probs = model.predict(test_gen, verbose=1)\n",
    "y_pred = np.argmax(y_pred_probs, axis=1)\n",
    "y_true = np.argmax(y_test_onehot, axis=1)"
   ]
  },
  {
   "cell_type": "code",
   "execution_count": 39,
   "metadata": {
    "execution": {
     "iopub.execute_input": "2025-06-17T07:45:31.138045Z",
     "iopub.status.busy": "2025-06-17T07:45:31.137353Z",
     "iopub.status.idle": "2025-06-17T07:45:31.506372Z",
     "shell.execute_reply": "2025-06-17T07:45:31.505597Z",
     "shell.execute_reply.started": "2025-06-17T07:45:31.138019Z"
    },
    "trusted": true
   },
   "outputs": [
    {
     "data": {
      "image/png": "[encoded data removed]",
      "text/plain": [
       "<Figure size 1400x500 with 2 Axes>"
      ]
     },
     "metadata": {},
     "output_type": "display_data"
    }
   ],
   "source": [
    "epochs = range(1, len(history.history['loss']) + 1)\n",
    "\n",
    "plt.figure(figsize=(14, 5))\n",
    "\n",
    "plt.subplot(1, 2, 1)\n",
    "plt.plot(epochs, history.history['accuracy'], 'b-', label='Train Accuracy')\n",
    "plt.plot(epochs, history.history['val_accuracy'], 'r-', label='Validation Accuracy')\n",
    "plt.title('Training and Validation Accuracy')\n",
    "plt.xlabel('Epoch')\n",
    "plt.ylabel('Accuracy')\n",
    "plt.legend()\n",
    "plt.grid()\n",
    "\n",
    "plt.subplot(1, 2, 2)\n",
    "plt.plot(epochs, history.history['loss'], 'b-', label='Train Loss')\n",
    "plt.plot(epochs, history.history['val_loss'], 'r-', label='Validation Loss')\n",
    "plt.title('Training and Validation Loss')\n",
    "plt.xlabel('Epoch')\n",
    "plt.ylabel('Loss')\n",
    "plt.legend()\n",
    "plt.grid()\n",
    "\n",
    "plt.tight_layout()\n",
    "plt.show()"
   ]
  },
  {
   "cell_type": "code",
   "execution_count": 32,
   "metadata": {
    "execution": {
     "iopub.execute_input": "2025-06-17T07:26:48.749093Z",
     "iopub.status.busy": "2025-06-17T07:26:48.748834Z",
     "iopub.status.idle": "2025-06-17T07:26:49.138706Z",
     "shell.execute_reply": "2025-06-17T07:26:49.137927Z",
     "shell.execute_reply.started": "2025-06-17T07:26:48.749076Z"
    },
    "id": "PJCjk8VFYdWl",
    "trusted": true
   },
   "outputs": [
    {
     "data": {
      "text/plain": [
       "<Figure size 1200x1200 with 0 Axes>"
      ]
     },
     "metadata": {},
     "output_type": "display_data"
    },
    {
     "data": {
      "image/png": "[encoded data removed]",
      "text/plain": [
       "<Figure size 640x480 with 1 Axes>"
      ]
     },
     "metadata": {},
     "output_type": "display_data"
    }
   ],
   "source": [
    "cm = confusion_matrix(y_true, y_pred)\n",
    "disp = ConfusionMatrixDisplay(confusion_matrix=cm)\n",
    "plt.figure(figsize=(12, 12))\n",
    "disp.plot(cmap='Blues', colorbar=False, xticks_rotation=90)\n",
    "plt.title(\"Macierz pomyłek na zbiorze testowym\")\n",
    "plt.show()"
   ]
  },
  {
   "cell_type": "code",
   "execution_count": 33,
   "metadata": {
    "execution": {
     "iopub.execute_input": "2025-06-17T07:26:49.139805Z",
     "iopub.status.busy": "2025-06-17T07:26:49.139517Z",
     "iopub.status.idle": "2025-06-17T07:26:49.435738Z",
     "shell.execute_reply": "2025-06-17T07:26:49.435062Z",
     "shell.execute_reply.started": "2025-06-17T07:26:49.139782Z"
    },
    "id": "zBwsfMJQqTlY",
    "trusted": true
   },
   "outputs": [
    {
     "name": "stdout",
     "output_type": "stream",
     "text": [
      "\u001b[1m107/107\u001b[0m \u001b[32m━━━━━━━━━━━━━━━━━━━━\u001b[0m\u001b[37m\u001b[0m \u001b[1m0s\u001b[0m 2ms/step\n",
      "              precision    recall  f1-score   support\n",
      "\n",
      "        B007       0.88      0.88      0.88       499\n",
      "        B014       0.99      0.96      0.97       500\n",
      "        B021       0.94      0.95      0.95       498\n",
      "       IR007       1.00      1.00      1.00       498\n",
      "       IR014       0.94      0.92      0.93       447\n",
      "       IR021       1.00      1.00      1.00       501\n",
      "      Normal       1.00      1.00      1.00       497\n",
      "    OR007@12       0.92      0.98      0.95       462\n",
      "     OR007@3       0.98      0.99      0.99       462\n",
      "     OR007@6       1.00      1.00      1.00       498\n",
      "     OR014@6       0.86      0.84      0.85       498\n",
      "    OR021@12       0.97      0.94      0.96       465\n",
      "     OR021@3       0.99      1.00      1.00       465\n",
      "     OR021@6       0.99      1.00      0.99       501\n",
      "\n",
      "    accuracy                           0.96      6791\n",
      "   macro avg       0.96      0.96      0.96      6791\n",
      "weighted avg       0.96      0.96      0.96      6791\n",
      "\n"
     ]
    }
   ],
   "source": [
    "# Predykcja prawdopodobieństw na zbiorze testowym\n",
    "y_pred_probs = model.predict(test_gen, verbose=1)\n",
    "\n",
    "# Zamiana prawdopodobieństw na klasy (indeksy)\n",
    "y_pred = np.argmax(y_pred_probs, axis=1)\n",
    "\n",
    "# Prawdziwe klasy (indeksy) z one-hot kodowania\n",
    "y_true = np.argmax(y_test_onehot, axis=1)\n",
    "\n",
    "# Raport klasyfikacji\n",
    "print(classification_report(y_true, y_pred, target_names=unique_classes))\n"
   ]
  },
  {
   "cell_type": "code",
   "execution_count": 36,
   "metadata": {
    "execution": {
     "iopub.execute_input": "2025-06-17T07:30:27.712155Z",
     "iopub.status.busy": "2025-06-17T07:30:27.711865Z",
     "iopub.status.idle": "2025-06-17T07:30:27.761245Z",
     "shell.execute_reply": "2025-06-17T07:30:27.760505Z",
     "shell.execute_reply.started": "2025-06-17T07:30:27.712135Z"
    },
    "id": "q0nljOcI5yUH",
    "trusted": true
   },
   "outputs": [],
   "source": [
    "model.save('best_1dcnn_model_final_version.h5')"
   ]
  }
 ],
 "metadata": {
  "accelerator": "GPU",
  "colab": {
   "gpuType": "T4",
   "provenance": []
  },
  "kaggle": {
   "accelerator": "gpu",
   "dataSources": [
    {
     "datasetId": 7679524,
     "sourceId": 12192069,
     "sourceType": "datasetVersion"
    }
   ],
   "dockerImageVersionId": 31041,
   "isGpuEnabled": true,
   "isInternetEnabled": true,
   "language": "python",
   "sourceType": "notebook"
  },
  "kernelspec": {
   "display_name": "Python 3",
   "language": "python",
   "name": "python3"
  },
  "language_info": {
   "codemirror_mode": {
    "name": "ipython",
    "version": 3
   },
   "file_extension": ".py",
   "mimetype": "text/x-python",
   "name": "python",
   "nbconvert_exporter": "python",
   "pygments_lexer": "ipython3",
   "version": "3.11.11"
  }
 },
 "nbformat": 4,
 "nbformat_minor": 4
}
